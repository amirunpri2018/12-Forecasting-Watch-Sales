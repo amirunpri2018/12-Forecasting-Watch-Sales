{
 "cells": [
  {
   "cell_type": "code",
   "execution_count": 1,
   "metadata": {},
   "outputs": [],
   "source": [
    "import numpy as np\n",
    "import pandas as pd\n",
    "\n",
    "#pd.options.display.precision=2\n",
    "import matplotlib.pyplot as plt\n",
    "%matplotlib inline\n",
    "from IPython.display import display"
   ]
  },
  {
   "cell_type": "code",
   "execution_count": 2,
   "metadata": {},
   "outputs": [],
   "source": [
    "pd.set_option('max_rows', 10)\n",
    "pd.set_option('precision', 10)"
   ]
  },
  {
   "cell_type": "code",
   "execution_count": 3,
   "metadata": {},
   "outputs": [],
   "source": [
    "excel_data=pd.read_excel('SalesStats.xlsx')\n",
    "excel_data.rename(columns={'YEAR':'Year'},inplace=True)"
   ]
  },
  {
   "cell_type": "code",
   "execution_count": 4,
   "metadata": {},
   "outputs": [
    {
     "data": {
      "text/html": [
       "<div>\n",
       "<style scoped>\n",
       "    .dataframe tbody tr th:only-of-type {\n",
       "        vertical-align: middle;\n",
       "    }\n",
       "\n",
       "    .dataframe tbody tr th {\n",
       "        vertical-align: top;\n",
       "    }\n",
       "\n",
       "    .dataframe thead th {\n",
       "        text-align: right;\n",
       "    }\n",
       "</style>\n",
       "<table border=\"1\" class=\"dataframe\">\n",
       "  <thead>\n",
       "    <tr style=\"text-align: right;\">\n",
       "      <th></th>\n",
       "      <th>Year</th>\n",
       "      <th>Store</th>\n",
       "      <th>Jan</th>\n",
       "      <th>Feb</th>\n",
       "      <th>Mar</th>\n",
       "      <th>Apr</th>\n",
       "      <th>May</th>\n",
       "      <th>Jun</th>\n",
       "      <th>Jul</th>\n",
       "      <th>Aug</th>\n",
       "      <th>Sep</th>\n",
       "      <th>Oct</th>\n",
       "      <th>Nov</th>\n",
       "      <th>Dec</th>\n",
       "      <th>Total</th>\n",
       "    </tr>\n",
       "  </thead>\n",
       "  <tbody>\n",
       "    <tr>\n",
       "      <th>0</th>\n",
       "      <td>2003</td>\n",
       "      <td>Agencia Bacolod</td>\n",
       "      <td>100618.8</td>\n",
       "      <td>67545.00</td>\n",
       "      <td>62699.10</td>\n",
       "      <td>55016.1</td>\n",
       "      <td>56048</td>\n",
       "      <td>40477.1</td>\n",
       "      <td>30573.5</td>\n",
       "      <td>41342.6</td>\n",
       "      <td>37349.5</td>\n",
       "      <td>41871.05</td>\n",
       "      <td>28002.0</td>\n",
       "      <td>47260.5</td>\n",
       "      <td>608803.25</td>\n",
       "    </tr>\n",
       "    <tr>\n",
       "      <th>1</th>\n",
       "      <td>2003</td>\n",
       "      <td>Centro - Butuan</td>\n",
       "      <td>NaN</td>\n",
       "      <td>NaN</td>\n",
       "      <td>NaN</td>\n",
       "      <td>NaN</td>\n",
       "      <td>NaN</td>\n",
       "      <td>NaN</td>\n",
       "      <td>NaN</td>\n",
       "      <td>NaN</td>\n",
       "      <td>NaN</td>\n",
       "      <td>NaN</td>\n",
       "      <td>NaN</td>\n",
       "      <td>NaN</td>\n",
       "      <td>0.00</td>\n",
       "    </tr>\n",
       "    <tr>\n",
       "      <th>2</th>\n",
       "      <td>2003</td>\n",
       "      <td>Centro - Catbalogan</td>\n",
       "      <td>NaN</td>\n",
       "      <td>NaN</td>\n",
       "      <td>NaN</td>\n",
       "      <td>NaN</td>\n",
       "      <td>NaN</td>\n",
       "      <td>NaN</td>\n",
       "      <td>NaN</td>\n",
       "      <td>NaN</td>\n",
       "      <td>NaN</td>\n",
       "      <td>NaN</td>\n",
       "      <td>NaN</td>\n",
       "      <td>NaN</td>\n",
       "      <td>0.00</td>\n",
       "    </tr>\n",
       "    <tr>\n",
       "      <th>3</th>\n",
       "      <td>2003</td>\n",
       "      <td>Centro - Cauayan</td>\n",
       "      <td>NaN</td>\n",
       "      <td>NaN</td>\n",
       "      <td>NaN</td>\n",
       "      <td>NaN</td>\n",
       "      <td>NaN</td>\n",
       "      <td>NaN</td>\n",
       "      <td>NaN</td>\n",
       "      <td>NaN</td>\n",
       "      <td>NaN</td>\n",
       "      <td>NaN</td>\n",
       "      <td>NaN</td>\n",
       "      <td>NaN</td>\n",
       "      <td>0.00</td>\n",
       "    </tr>\n",
       "    <tr>\n",
       "      <th>4</th>\n",
       "      <td>2003</td>\n",
       "      <td>Centro - Daet</td>\n",
       "      <td>NaN</td>\n",
       "      <td>NaN</td>\n",
       "      <td>NaN</td>\n",
       "      <td>NaN</td>\n",
       "      <td>NaN</td>\n",
       "      <td>NaN</td>\n",
       "      <td>NaN</td>\n",
       "      <td>NaN</td>\n",
       "      <td>NaN</td>\n",
       "      <td>NaN</td>\n",
       "      <td>NaN</td>\n",
       "      <td>NaN</td>\n",
       "      <td>0.00</td>\n",
       "    </tr>\n",
       "    <tr>\n",
       "      <th>...</th>\n",
       "      <td>...</td>\n",
       "      <td>...</td>\n",
       "      <td>...</td>\n",
       "      <td>...</td>\n",
       "      <td>...</td>\n",
       "      <td>...</td>\n",
       "      <td>...</td>\n",
       "      <td>...</td>\n",
       "      <td>...</td>\n",
       "      <td>...</td>\n",
       "      <td>...</td>\n",
       "      <td>...</td>\n",
       "      <td>...</td>\n",
       "      <td>...</td>\n",
       "      <td>...</td>\n",
       "    </tr>\n",
       "    <tr>\n",
       "      <th>1229</th>\n",
       "      <td>2017</td>\n",
       "      <td>Time Value - Davao</td>\n",
       "      <td>0.0</td>\n",
       "      <td>0.00</td>\n",
       "      <td>0.00</td>\n",
       "      <td>0.0</td>\n",
       "      <td>0</td>\n",
       "      <td>0.0</td>\n",
       "      <td>0.0</td>\n",
       "      <td>0.0</td>\n",
       "      <td>0.0</td>\n",
       "      <td>0.00</td>\n",
       "      <td>0.0</td>\n",
       "      <td>0.0</td>\n",
       "      <td>0.00</td>\n",
       "    </tr>\n",
       "    <tr>\n",
       "      <th>1230</th>\n",
       "      <td>2017</td>\n",
       "      <td>Time Value Zamboanga</td>\n",
       "      <td>0.0</td>\n",
       "      <td>0.00</td>\n",
       "      <td>0.00</td>\n",
       "      <td>0.0</td>\n",
       "      <td>0</td>\n",
       "      <td>0.0</td>\n",
       "      <td>0.0</td>\n",
       "      <td>0.0</td>\n",
       "      <td>0.0</td>\n",
       "      <td>0.00</td>\n",
       "      <td>0.0</td>\n",
       "      <td>0.0</td>\n",
       "      <td>0.00</td>\n",
       "    </tr>\n",
       "    <tr>\n",
       "      <th>1231</th>\n",
       "      <td>2017</td>\n",
       "      <td>Time Zone Roxas</td>\n",
       "      <td>0.0</td>\n",
       "      <td>0.00</td>\n",
       "      <td>0.00</td>\n",
       "      <td>0.0</td>\n",
       "      <td>0</td>\n",
       "      <td>0.0</td>\n",
       "      <td>0.0</td>\n",
       "      <td>0.0</td>\n",
       "      <td>0.0</td>\n",
       "      <td>0.00</td>\n",
       "      <td>0.0</td>\n",
       "      <td>0.0</td>\n",
       "      <td>0.00</td>\n",
       "    </tr>\n",
       "    <tr>\n",
       "      <th>1232</th>\n",
       "      <td>2017</td>\n",
       "      <td>Xentro Mall - Santiago</td>\n",
       "      <td>32169.0</td>\n",
       "      <td>24930.75</td>\n",
       "      <td>17740.15</td>\n",
       "      <td>35443.0</td>\n",
       "      <td>0</td>\n",
       "      <td>11456.0</td>\n",
       "      <td>25910.0</td>\n",
       "      <td>15469.2</td>\n",
       "      <td>0.0</td>\n",
       "      <td>0.00</td>\n",
       "      <td>26423.0</td>\n",
       "      <td>64131.4</td>\n",
       "      <td>253672.50</td>\n",
       "    </tr>\n",
       "    <tr>\n",
       "      <th>1233</th>\n",
       "      <td>2017</td>\n",
       "      <td>Zalora</td>\n",
       "      <td>50442.5</td>\n",
       "      <td>101236.20</td>\n",
       "      <td>13410.40</td>\n",
       "      <td>7576.0</td>\n",
       "      <td>11426</td>\n",
       "      <td>3237.5</td>\n",
       "      <td>1995.0</td>\n",
       "      <td>0.0</td>\n",
       "      <td>3990.0</td>\n",
       "      <td>1995.00</td>\n",
       "      <td>0.0</td>\n",
       "      <td>3990.0</td>\n",
       "      <td>199298.60</td>\n",
       "    </tr>\n",
       "  </tbody>\n",
       "</table>\n",
       "<p>1234 rows × 15 columns</p>\n",
       "</div>"
      ],
      "text/plain": [
       "      Year                   Store       Jan        Feb       Mar      Apr  \\\n",
       "0     2003         Agencia Bacolod  100618.8   67545.00  62699.10  55016.1   \n",
       "1     2003         Centro - Butuan       NaN        NaN       NaN      NaN   \n",
       "2     2003     Centro - Catbalogan       NaN        NaN       NaN      NaN   \n",
       "3     2003        Centro - Cauayan       NaN        NaN       NaN      NaN   \n",
       "4     2003           Centro - Daet       NaN        NaN       NaN      NaN   \n",
       "...    ...                     ...       ...        ...       ...      ...   \n",
       "1229  2017      Time Value - Davao       0.0       0.00      0.00      0.0   \n",
       "1230  2017    Time Value Zamboanga       0.0       0.00      0.00      0.0   \n",
       "1231  2017         Time Zone Roxas       0.0       0.00      0.00      0.0   \n",
       "1232  2017  Xentro Mall - Santiago   32169.0   24930.75  17740.15  35443.0   \n",
       "1233  2017                  Zalora   50442.5  101236.20  13410.40   7576.0   \n",
       "\n",
       "        May      Jun      Jul      Aug      Sep       Oct      Nov      Dec  \\\n",
       "0     56048  40477.1  30573.5  41342.6  37349.5  41871.05  28002.0  47260.5   \n",
       "1       NaN      NaN      NaN      NaN      NaN       NaN      NaN      NaN   \n",
       "2       NaN      NaN      NaN      NaN      NaN       NaN      NaN      NaN   \n",
       "3       NaN      NaN      NaN      NaN      NaN       NaN      NaN      NaN   \n",
       "4       NaN      NaN      NaN      NaN      NaN       NaN      NaN      NaN   \n",
       "...     ...      ...      ...      ...      ...       ...      ...      ...   \n",
       "1229      0      0.0      0.0      0.0      0.0      0.00      0.0      0.0   \n",
       "1230      0      0.0      0.0      0.0      0.0      0.00      0.0      0.0   \n",
       "1231      0      0.0      0.0      0.0      0.0      0.00      0.0      0.0   \n",
       "1232      0  11456.0  25910.0  15469.2      0.0      0.00  26423.0  64131.4   \n",
       "1233  11426   3237.5   1995.0      0.0   3990.0   1995.00      0.0   3990.0   \n",
       "\n",
       "          Total  \n",
       "0     608803.25  \n",
       "1          0.00  \n",
       "2          0.00  \n",
       "3          0.00  \n",
       "4          0.00  \n",
       "...         ...  \n",
       "1229       0.00  \n",
       "1230       0.00  \n",
       "1231       0.00  \n",
       "1232  253672.50  \n",
       "1233  199298.60  \n",
       "\n",
       "[1234 rows x 15 columns]"
      ]
     },
     "execution_count": 4,
     "metadata": {},
     "output_type": "execute_result"
    }
   ],
   "source": [
    "excel_data"
   ]
  },
  {
   "cell_type": "code",
   "execution_count": 5,
   "metadata": {},
   "outputs": [
    {
     "data": {
      "text/html": [
       "<div>\n",
       "<style scoped>\n",
       "    .dataframe tbody tr th:only-of-type {\n",
       "        vertical-align: middle;\n",
       "    }\n",
       "\n",
       "    .dataframe tbody tr th {\n",
       "        vertical-align: top;\n",
       "    }\n",
       "\n",
       "    .dataframe thead th {\n",
       "        text-align: right;\n",
       "    }\n",
       "</style>\n",
       "<table border=\"1\" class=\"dataframe\">\n",
       "  <thead>\n",
       "    <tr style=\"text-align: right;\">\n",
       "      <th></th>\n",
       "      <th>Year</th>\n",
       "      <th>Store</th>\n",
       "      <th>Jan</th>\n",
       "      <th>Feb</th>\n",
       "      <th>Mar</th>\n",
       "      <th>Apr</th>\n",
       "      <th>May</th>\n",
       "      <th>Jun</th>\n",
       "      <th>Jul</th>\n",
       "      <th>Aug</th>\n",
       "      <th>Sep</th>\n",
       "      <th>Oct</th>\n",
       "      <th>Nov</th>\n",
       "      <th>Dec</th>\n",
       "      <th>Total</th>\n",
       "    </tr>\n",
       "  </thead>\n",
       "  <tbody>\n",
       "    <tr>\n",
       "      <th>0</th>\n",
       "      <td>2003</td>\n",
       "      <td>Agencia Bacolod</td>\n",
       "      <td>100618.80</td>\n",
       "      <td>67545.00</td>\n",
       "      <td>62699.10</td>\n",
       "      <td>55016.10</td>\n",
       "      <td>56048</td>\n",
       "      <td>40477.10</td>\n",
       "      <td>30573.50</td>\n",
       "      <td>41342.60</td>\n",
       "      <td>37349.50</td>\n",
       "      <td>41871.05</td>\n",
       "      <td>28002.00</td>\n",
       "      <td>47260.50</td>\n",
       "      <td>6.0880325000e+05</td>\n",
       "    </tr>\n",
       "    <tr>\n",
       "      <th>24</th>\n",
       "      <td>2003</td>\n",
       "      <td>Ever Ortigas</td>\n",
       "      <td>0.00</td>\n",
       "      <td>0.00</td>\n",
       "      <td>0.00</td>\n",
       "      <td>0.00</td>\n",
       "      <td>0</td>\n",
       "      <td>5495.00</td>\n",
       "      <td>665.00</td>\n",
       "      <td>6277.90</td>\n",
       "      <td>6375.50</td>\n",
       "      <td>2596.00</td>\n",
       "      <td>1455.00</td>\n",
       "      <td>19705.00</td>\n",
       "      <td>4.2569400000e+04</td>\n",
       "    </tr>\n",
       "    <tr>\n",
       "      <th>30</th>\n",
       "      <td>2003</td>\n",
       "      <td>Gaisano Bacolod</td>\n",
       "      <td>128899.11</td>\n",
       "      <td>149496.86</td>\n",
       "      <td>112299.40</td>\n",
       "      <td>132918.48</td>\n",
       "      <td>92693.1</td>\n",
       "      <td>100319.15</td>\n",
       "      <td>70873.25</td>\n",
       "      <td>75824.90</td>\n",
       "      <td>69591.05</td>\n",
       "      <td>112952.65</td>\n",
       "      <td>118254.20</td>\n",
       "      <td>175245.26</td>\n",
       "      <td>1.3393674100e+06</td>\n",
       "    </tr>\n",
       "    <tr>\n",
       "      <th>33</th>\n",
       "      <td>2003</td>\n",
       "      <td>Gaisano Country Mall</td>\n",
       "      <td>33125.35</td>\n",
       "      <td>31765.38</td>\n",
       "      <td>29940.10</td>\n",
       "      <td>28463.80</td>\n",
       "      <td>44898.85</td>\n",
       "      <td>23019.45</td>\n",
       "      <td>19321.63</td>\n",
       "      <td>15873.90</td>\n",
       "      <td>30191.50</td>\n",
       "      <td>57477.85</td>\n",
       "      <td>18321.70</td>\n",
       "      <td>50411.45</td>\n",
       "      <td>3.8281096000e+05</td>\n",
       "    </tr>\n",
       "    <tr>\n",
       "      <th>39</th>\n",
       "      <td>2003</td>\n",
       "      <td>Gaisano Tacloban</td>\n",
       "      <td>178697.30</td>\n",
       "      <td>176925.05</td>\n",
       "      <td>229567.00</td>\n",
       "      <td>188186.45</td>\n",
       "      <td>191944.55</td>\n",
       "      <td>206356.65</td>\n",
       "      <td>164707.30</td>\n",
       "      <td>189483.75</td>\n",
       "      <td>170988.95</td>\n",
       "      <td>245491.35</td>\n",
       "      <td>215964.35</td>\n",
       "      <td>450104.60</td>\n",
       "      <td>2.6084173000e+06</td>\n",
       "    </tr>\n",
       "    <tr>\n",
       "      <th>...</th>\n",
       "      <td>...</td>\n",
       "      <td>...</td>\n",
       "      <td>...</td>\n",
       "      <td>...</td>\n",
       "      <td>...</td>\n",
       "      <td>...</td>\n",
       "      <td>...</td>\n",
       "      <td>...</td>\n",
       "      <td>...</td>\n",
       "      <td>...</td>\n",
       "      <td>...</td>\n",
       "      <td>...</td>\n",
       "      <td>...</td>\n",
       "      <td>...</td>\n",
       "      <td>...</td>\n",
       "    </tr>\n",
       "    <tr>\n",
       "      <th>1222</th>\n",
       "      <td>2017</td>\n",
       "      <td>Time Place-Santiago</td>\n",
       "      <td>98794.15</td>\n",
       "      <td>39451.75</td>\n",
       "      <td>36937.00</td>\n",
       "      <td>35479.65</td>\n",
       "      <td>48836.05</td>\n",
       "      <td>60445.00</td>\n",
       "      <td>44489.10</td>\n",
       "      <td>35345.00</td>\n",
       "      <td>33447.00</td>\n",
       "      <td>39413.70</td>\n",
       "      <td>10042.00</td>\n",
       "      <td>58331.60</td>\n",
       "      <td>5.4101200000e+05</td>\n",
       "    </tr>\n",
       "    <tr>\n",
       "      <th>1223</th>\n",
       "      <td>2017</td>\n",
       "      <td>Time Station - Candon</td>\n",
       "      <td>119399.50</td>\n",
       "      <td>82768.15</td>\n",
       "      <td>75260.45</td>\n",
       "      <td>59731.00</td>\n",
       "      <td>92366.95</td>\n",
       "      <td>70494.15</td>\n",
       "      <td>64616.30</td>\n",
       "      <td>73834.50</td>\n",
       "      <td>52586.00</td>\n",
       "      <td>39360.00</td>\n",
       "      <td>41612.50</td>\n",
       "      <td>130371.75</td>\n",
       "      <td>9.0240125000e+05</td>\n",
       "    </tr>\n",
       "    <tr>\n",
       "      <th>1225</th>\n",
       "      <td>2017</td>\n",
       "      <td>Time Station - Marbel</td>\n",
       "      <td>160275.53</td>\n",
       "      <td>129400.30</td>\n",
       "      <td>75400.75</td>\n",
       "      <td>84045.25</td>\n",
       "      <td>89312.3</td>\n",
       "      <td>114606.87</td>\n",
       "      <td>103859.87</td>\n",
       "      <td>103150.95</td>\n",
       "      <td>96415.90</td>\n",
       "      <td>134884.12</td>\n",
       "      <td>98216.84</td>\n",
       "      <td>273878.84</td>\n",
       "      <td>1.4634475200e+06</td>\n",
       "    </tr>\n",
       "    <tr>\n",
       "      <th>1232</th>\n",
       "      <td>2017</td>\n",
       "      <td>Xentro Mall - Santiago</td>\n",
       "      <td>32169.00</td>\n",
       "      <td>24930.75</td>\n",
       "      <td>17740.15</td>\n",
       "      <td>35443.00</td>\n",
       "      <td>0</td>\n",
       "      <td>11456.00</td>\n",
       "      <td>25910.00</td>\n",
       "      <td>15469.20</td>\n",
       "      <td>0.00</td>\n",
       "      <td>0.00</td>\n",
       "      <td>26423.00</td>\n",
       "      <td>64131.40</td>\n",
       "      <td>2.5367250000e+05</td>\n",
       "    </tr>\n",
       "    <tr>\n",
       "      <th>1233</th>\n",
       "      <td>2017</td>\n",
       "      <td>Zalora</td>\n",
       "      <td>50442.50</td>\n",
       "      <td>101236.20</td>\n",
       "      <td>13410.40</td>\n",
       "      <td>7576.00</td>\n",
       "      <td>11426</td>\n",
       "      <td>3237.50</td>\n",
       "      <td>1995.00</td>\n",
       "      <td>0.00</td>\n",
       "      <td>3990.00</td>\n",
       "      <td>1995.00</td>\n",
       "      <td>0.00</td>\n",
       "      <td>3990.00</td>\n",
       "      <td>1.9929860000e+05</td>\n",
       "    </tr>\n",
       "  </tbody>\n",
       "</table>\n",
       "<p>561 rows × 15 columns</p>\n",
       "</div>"
      ],
      "text/plain": [
       "      Year                   Store        Jan        Feb        Mar  \\\n",
       "0     2003         Agencia Bacolod  100618.80   67545.00   62699.10   \n",
       "24    2003            Ever Ortigas       0.00       0.00       0.00   \n",
       "30    2003         Gaisano Bacolod  128899.11  149496.86  112299.40   \n",
       "33    2003    Gaisano Country Mall   33125.35   31765.38   29940.10   \n",
       "39    2003        Gaisano Tacloban  178697.30  176925.05  229567.00   \n",
       "...    ...                     ...        ...        ...        ...   \n",
       "1222  2017     Time Place-Santiago   98794.15   39451.75   36937.00   \n",
       "1223  2017   Time Station - Candon  119399.50   82768.15   75260.45   \n",
       "1225  2017   Time Station - Marbel  160275.53  129400.30   75400.75   \n",
       "1232  2017  Xentro Mall - Santiago   32169.00   24930.75   17740.15   \n",
       "1233  2017                  Zalora   50442.50  101236.20   13410.40   \n",
       "\n",
       "            Apr        May        Jun        Jul        Aug        Sep  \\\n",
       "0      55016.10      56048   40477.10   30573.50   41342.60   37349.50   \n",
       "24         0.00          0    5495.00     665.00    6277.90    6375.50   \n",
       "30    132918.48    92693.1  100319.15   70873.25   75824.90   69591.05   \n",
       "33     28463.80   44898.85   23019.45   19321.63   15873.90   30191.50   \n",
       "39    188186.45  191944.55  206356.65  164707.30  189483.75  170988.95   \n",
       "...         ...        ...        ...        ...        ...        ...   \n",
       "1222   35479.65   48836.05   60445.00   44489.10   35345.00   33447.00   \n",
       "1223   59731.00   92366.95   70494.15   64616.30   73834.50   52586.00   \n",
       "1225   84045.25    89312.3  114606.87  103859.87  103150.95   96415.90   \n",
       "1232   35443.00          0   11456.00   25910.00   15469.20       0.00   \n",
       "1233    7576.00      11426    3237.50    1995.00       0.00    3990.00   \n",
       "\n",
       "            Oct        Nov        Dec             Total  \n",
       "0      41871.05   28002.00   47260.50  6.0880325000e+05  \n",
       "24      2596.00    1455.00   19705.00  4.2569400000e+04  \n",
       "30    112952.65  118254.20  175245.26  1.3393674100e+06  \n",
       "33     57477.85   18321.70   50411.45  3.8281096000e+05  \n",
       "39    245491.35  215964.35  450104.60  2.6084173000e+06  \n",
       "...         ...        ...        ...               ...  \n",
       "1222   39413.70   10042.00   58331.60  5.4101200000e+05  \n",
       "1223   39360.00   41612.50  130371.75  9.0240125000e+05  \n",
       "1225  134884.12   98216.84  273878.84  1.4634475200e+06  \n",
       "1232       0.00   26423.00   64131.40  2.5367250000e+05  \n",
       "1233    1995.00       0.00    3990.00  1.9929860000e+05  \n",
       "\n",
       "[561 rows x 15 columns]"
      ]
     },
     "execution_count": 5,
     "metadata": {},
     "output_type": "execute_result"
    }
   ],
   "source": [
    "excel_data=excel_data.dropna()\n",
    "zeroes_data=excel_data.loc[excel_data['Total'] == 0]\n",
    "excel_data=excel_data.drop(zeroes_data.index)\n",
    "excel_data"
   ]
  },
  {
   "cell_type": "code",
   "execution_count": 6,
   "metadata": {},
   "outputs": [
    {
     "data": {
      "text/html": [
       "<div>\n",
       "<style scoped>\n",
       "    .dataframe tbody tr th:only-of-type {\n",
       "        vertical-align: middle;\n",
       "    }\n",
       "\n",
       "    .dataframe tbody tr th {\n",
       "        vertical-align: top;\n",
       "    }\n",
       "\n",
       "    .dataframe thead th {\n",
       "        text-align: right;\n",
       "    }\n",
       "</style>\n",
       "<table border=\"1\" class=\"dataframe\">\n",
       "  <thead>\n",
       "    <tr style=\"text-align: right;\">\n",
       "      <th></th>\n",
       "      <th>Year</th>\n",
       "      <th>Store</th>\n",
       "      <th>Jan</th>\n",
       "      <th>Feb</th>\n",
       "      <th>Mar</th>\n",
       "      <th>Apr</th>\n",
       "      <th>May</th>\n",
       "      <th>Jun</th>\n",
       "      <th>Jul</th>\n",
       "      <th>Aug</th>\n",
       "      <th>Sep</th>\n",
       "      <th>Oct</th>\n",
       "      <th>Nov</th>\n",
       "      <th>Dec</th>\n",
       "      <th>Total</th>\n",
       "    </tr>\n",
       "  </thead>\n",
       "  <tbody>\n",
       "  </tbody>\n",
       "</table>\n",
       "</div>"
      ],
      "text/plain": [
       "Empty DataFrame\n",
       "Columns: [Year, Store, Jan, Feb, Mar, Apr, May, Jun, Jul, Aug, Sep, Oct, Nov, Dec, Total]\n",
       "Index: []"
      ]
     },
     "execution_count": 6,
     "metadata": {},
     "output_type": "execute_result"
    }
   ],
   "source": [
    "excel_data.loc[excel_data['Total'] <= 0]"
   ]
  },
  {
   "cell_type": "code",
   "execution_count": 7,
   "metadata": {},
   "outputs": [
    {
     "data": {
      "text/html": [
       "<div>\n",
       "<style scoped>\n",
       "    .dataframe tbody tr th:only-of-type {\n",
       "        vertical-align: middle;\n",
       "    }\n",
       "\n",
       "    .dataframe tbody tr th {\n",
       "        vertical-align: top;\n",
       "    }\n",
       "\n",
       "    .dataframe thead th {\n",
       "        text-align: right;\n",
       "    }\n",
       "</style>\n",
       "<table border=\"1\" class=\"dataframe\">\n",
       "  <thead>\n",
       "    <tr style=\"text-align: right;\">\n",
       "      <th></th>\n",
       "      <th>Year</th>\n",
       "      <th>Store</th>\n",
       "      <th>Month</th>\n",
       "      <th>Sales</th>\n",
       "    </tr>\n",
       "  </thead>\n",
       "  <tbody>\n",
       "    <tr>\n",
       "      <th>0</th>\n",
       "      <td>2003</td>\n",
       "      <td>Agencia Bacolod</td>\n",
       "      <td>Jan</td>\n",
       "      <td>100618.8</td>\n",
       "    </tr>\n",
       "    <tr>\n",
       "      <th>561</th>\n",
       "      <td>2003</td>\n",
       "      <td>Agencia Bacolod</td>\n",
       "      <td>Feb</td>\n",
       "      <td>67545</td>\n",
       "    </tr>\n",
       "    <tr>\n",
       "      <th>1122</th>\n",
       "      <td>2003</td>\n",
       "      <td>Agencia Bacolod</td>\n",
       "      <td>Mar</td>\n",
       "      <td>62699.1</td>\n",
       "    </tr>\n",
       "  </tbody>\n",
       "</table>\n",
       "</div>"
      ],
      "text/plain": [
       "      Year            Store Month     Sales\n",
       "0     2003  Agencia Bacolod   Jan  100618.8\n",
       "561   2003  Agencia Bacolod   Feb     67545\n",
       "1122  2003  Agencia Bacolod   Mar   62699.1"
      ]
     },
     "metadata": {},
     "output_type": "display_data"
    }
   ],
   "source": [
    "melt_data=excel_data.melt(id_vars=['Year','Store'], \n",
    "                  value_vars=['Jan','Feb','Mar','Apr','May','Jun','Jul','Aug','Sep','Oct','Nov','Dec'],\n",
    "                  var_name='Month', value_name='Sales')\n",
    "melt_data.sort_values(['Year','Store'],inplace=True)\n",
    "display(melt_data.head(3))"
   ]
  },
  {
   "cell_type": "code",
   "execution_count": 8,
   "metadata": {
    "scrolled": true
   },
   "outputs": [
    {
     "data": {
      "text/html": [
       "<div>\n",
       "<style scoped>\n",
       "    .dataframe tbody tr th:only-of-type {\n",
       "        vertical-align: middle;\n",
       "    }\n",
       "\n",
       "    .dataframe tbody tr th {\n",
       "        vertical-align: top;\n",
       "    }\n",
       "\n",
       "    .dataframe thead th {\n",
       "        text-align: right;\n",
       "    }\n",
       "</style>\n",
       "<table border=\"1\" class=\"dataframe\">\n",
       "  <thead>\n",
       "    <tr style=\"text-align: right;\">\n",
       "      <th></th>\n",
       "      <th>Year</th>\n",
       "      <th>Store</th>\n",
       "      <th>Month</th>\n",
       "      <th>Sales</th>\n",
       "      <th>Date</th>\n",
       "    </tr>\n",
       "  </thead>\n",
       "  <tbody>\n",
       "    <tr>\n",
       "      <th>0</th>\n",
       "      <td>2003</td>\n",
       "      <td>Agencia Bacolod</td>\n",
       "      <td>Jan</td>\n",
       "      <td>100618.8</td>\n",
       "      <td>2003-01-01</td>\n",
       "    </tr>\n",
       "    <tr>\n",
       "      <th>561</th>\n",
       "      <td>2003</td>\n",
       "      <td>Agencia Bacolod</td>\n",
       "      <td>Feb</td>\n",
       "      <td>67545.0</td>\n",
       "      <td>2003-02-01</td>\n",
       "    </tr>\n",
       "    <tr>\n",
       "      <th>1122</th>\n",
       "      <td>2003</td>\n",
       "      <td>Agencia Bacolod</td>\n",
       "      <td>Mar</td>\n",
       "      <td>62699.1</td>\n",
       "      <td>2003-03-01</td>\n",
       "    </tr>\n",
       "  </tbody>\n",
       "</table>\n",
       "</div>"
      ],
      "text/plain": [
       "      Year            Store Month     Sales       Date\n",
       "0     2003  Agencia Bacolod   Jan  100618.8 2003-01-01\n",
       "561   2003  Agencia Bacolod   Feb   67545.0 2003-02-01\n",
       "1122  2003  Agencia Bacolod   Mar   62699.1 2003-03-01"
      ]
     },
     "metadata": {},
     "output_type": "display_data"
    }
   ],
   "source": [
    "from time import strptime\n",
    "from datetime import datetime\n",
    "melt_data['Date']=melt_data.apply(lambda row: datetime(row['Year'],(strptime(row['Month'],'%b').tm_mon),1),axis=1)\n",
    "\n",
    "melt_data['Sales']=melt_data['Sales'].astype(str)\n",
    "melt_data['Sales']=melt_data['Sales'].replace(r'\\s+', np.nan, regex=True)\n",
    "melt_data['Sales']=melt_data['Sales'].astype(float)\n",
    "#melt_data.astype({'Sales':float},inplace=True)\n",
    "#melt_data.dropna(inplace=True)\n",
    "#melt_data.astype({'Sales':float})\n",
    "display(melt_data.head(3))"
   ]
  },
  {
   "cell_type": "code",
   "execution_count": 9,
   "metadata": {},
   "outputs": [
    {
     "data": {
      "text/html": [
       "<div>\n",
       "<style scoped>\n",
       "    .dataframe tbody tr th:only-of-type {\n",
       "        vertical-align: middle;\n",
       "    }\n",
       "\n",
       "    .dataframe tbody tr th {\n",
       "        vertical-align: top;\n",
       "    }\n",
       "\n",
       "    .dataframe thead th {\n",
       "        text-align: right;\n",
       "    }\n",
       "</style>\n",
       "<table border=\"1\" class=\"dataframe\">\n",
       "  <thead>\n",
       "    <tr style=\"text-align: right;\">\n",
       "      <th></th>\n",
       "      <th>Year</th>\n",
       "      <th>Store</th>\n",
       "      <th>Sales</th>\n",
       "    </tr>\n",
       "    <tr>\n",
       "      <th>Date</th>\n",
       "      <th></th>\n",
       "      <th></th>\n",
       "      <th></th>\n",
       "    </tr>\n",
       "  </thead>\n",
       "  <tbody>\n",
       "    <tr>\n",
       "      <th>2003-01-01</th>\n",
       "      <td>2003</td>\n",
       "      <td>Agencia Bacolod</td>\n",
       "      <td>100618.8</td>\n",
       "    </tr>\n",
       "    <tr>\n",
       "      <th>2003-02-01</th>\n",
       "      <td>2003</td>\n",
       "      <td>Agencia Bacolod</td>\n",
       "      <td>67545.0</td>\n",
       "    </tr>\n",
       "    <tr>\n",
       "      <th>2003-03-01</th>\n",
       "      <td>2003</td>\n",
       "      <td>Agencia Bacolod</td>\n",
       "      <td>62699.1</td>\n",
       "    </tr>\n",
       "  </tbody>\n",
       "</table>\n",
       "</div>"
      ],
      "text/plain": [
       "            Year            Store     Sales\n",
       "Date                                       \n",
       "2003-01-01  2003  Agencia Bacolod  100618.8\n",
       "2003-02-01  2003  Agencia Bacolod   67545.0\n",
       "2003-03-01  2003  Agencia Bacolod   62699.1"
      ]
     },
     "metadata": {},
     "output_type": "display_data"
    }
   ],
   "source": [
    "store_data=melt_data.drop(columns=['Month'])\n",
    "store_data['Year']=store_data['Year'].astype(str)\n",
    "store_data.set_index('Date',inplace=True)\n",
    "display(store_data.head(3))"
   ]
  },
  {
   "cell_type": "code",
   "execution_count": 10,
   "metadata": {},
   "outputs": [
    {
     "data": {
      "text/plain": [
       "Year     6732\n",
       "Store    6732\n",
       "Sales    6731\n",
       "dtype: int64"
      ]
     },
     "execution_count": 10,
     "metadata": {},
     "output_type": "execute_result"
    }
   ],
   "source": [
    "store_data.count()"
   ]
  },
  {
   "cell_type": "code",
   "execution_count": 11,
   "metadata": {},
   "outputs": [
    {
     "data": {
      "text/html": [
       "<div>\n",
       "<style scoped>\n",
       "    .dataframe tbody tr th:only-of-type {\n",
       "        vertical-align: middle;\n",
       "    }\n",
       "\n",
       "    .dataframe tbody tr th {\n",
       "        vertical-align: top;\n",
       "    }\n",
       "\n",
       "    .dataframe thead th {\n",
       "        text-align: right;\n",
       "    }\n",
       "</style>\n",
       "<table border=\"1\" class=\"dataframe\">\n",
       "  <thead>\n",
       "    <tr style=\"text-align: right;\">\n",
       "      <th></th>\n",
       "      <th>Sales</th>\n",
       "    </tr>\n",
       "  </thead>\n",
       "  <tbody>\n",
       "    <tr>\n",
       "      <th>count</th>\n",
       "      <td>6731.0000000000</td>\n",
       "    </tr>\n",
       "    <tr>\n",
       "      <th>mean</th>\n",
       "      <td>70079.9341732284</td>\n",
       "    </tr>\n",
       "    <tr>\n",
       "      <th>std</th>\n",
       "      <td>73105.6750280001</td>\n",
       "    </tr>\n",
       "    <tr>\n",
       "      <th>min</th>\n",
       "      <td>-43020.2500000000</td>\n",
       "    </tr>\n",
       "    <tr>\n",
       "      <th>25%</th>\n",
       "      <td>26883.8000000000</td>\n",
       "    </tr>\n",
       "    <tr>\n",
       "      <th>50%</th>\n",
       "      <td>53866.3000000000</td>\n",
       "    </tr>\n",
       "    <tr>\n",
       "      <th>75%</th>\n",
       "      <td>91633.6050000000</td>\n",
       "    </tr>\n",
       "    <tr>\n",
       "      <th>max</th>\n",
       "      <td>953286.4500000000</td>\n",
       "    </tr>\n",
       "  </tbody>\n",
       "</table>\n",
       "</div>"
      ],
      "text/plain": [
       "                   Sales\n",
       "count    6731.0000000000\n",
       "mean    70079.9341732284\n",
       "std     73105.6750280001\n",
       "min    -43020.2500000000\n",
       "25%     26883.8000000000\n",
       "50%     53866.3000000000\n",
       "75%     91633.6050000000\n",
       "max    953286.4500000000"
      ]
     },
     "execution_count": 11,
     "metadata": {},
     "output_type": "execute_result"
    }
   ],
   "source": [
    "store_data.describe()"
   ]
  },
  {
   "cell_type": "code",
   "execution_count": 12,
   "metadata": {},
   "outputs": [
    {
     "data": {
      "text/plain": [
       "array([[<matplotlib.axes._subplots.AxesSubplot object at 0x000001B9F0F9DB70>]],\n",
       "      dtype=object)"
      ]
     },
     "execution_count": 12,
     "metadata": {},
     "output_type": "execute_result"
    },
    {
     "data": {
      "image/png": "[encoded data removed]",
      "text/plain": [
       "<Figure size 432x288 with 1 Axes>"
      ]
     },
     "metadata": {},
     "output_type": "display_data"
    }
   ],
   "source": [
    "store_data.hist()"
   ]
  },
  {
   "cell_type": "code",
   "execution_count": 34,
   "metadata": {},
   "outputs": [
    {
     "data": {
      "text/plain": [
       "Year\n",
       "2003    15\n",
       "2004    17\n",
       "2005    21\n",
       "2006    26\n",
       "2007    34\n",
       "        ..\n",
       "2013    47\n",
       "2014    44\n",
       "2015    46\n",
       "2016    50\n",
       "2017    60\n",
       "Name: Store, Length: 15, dtype: int64"
      ]
     },
     "execution_count": 34,
     "metadata": {},
     "output_type": "execute_result"
    }
   ],
   "source": [
    "data = store_data.groupby('Year')['Store'].nunique()\n",
    "data"
   ]
  },
  {
   "cell_type": "code",
   "execution_count": 35,
   "metadata": {},
   "outputs": [
    {
     "data": {
      "text/html": [
       "<div>\n",
       "<style scoped>\n",
       "    .dataframe tbody tr th:only-of-type {\n",
       "        vertical-align: middle;\n",
       "    }\n",
       "\n",
       "    .dataframe tbody tr th {\n",
       "        vertical-align: top;\n",
       "    }\n",
       "\n",
       "    .dataframe thead th {\n",
       "        text-align: right;\n",
       "    }\n",
       "</style>\n",
       "<table border=\"1\" class=\"dataframe\">\n",
       "  <thead>\n",
       "    <tr style=\"text-align: right;\">\n",
       "      <th></th>\n",
       "      <th>Year</th>\n",
       "      <th>Store</th>\n",
       "      <th>Sales</th>\n",
       "    </tr>\n",
       "    <tr>\n",
       "      <th>Date</th>\n",
       "      <th></th>\n",
       "      <th></th>\n",
       "      <th></th>\n",
       "    </tr>\n",
       "  </thead>\n",
       "  <tbody>\n",
       "    <tr>\n",
       "      <th>2017-01-01</th>\n",
       "      <td>2017</td>\n",
       "      <td>Centro - Calbayog</td>\n",
       "      <td>67648.95</td>\n",
       "    </tr>\n",
       "    <tr>\n",
       "      <th>2017-02-01</th>\n",
       "      <td>2017</td>\n",
       "      <td>Centro - Calbayog</td>\n",
       "      <td>29128.00</td>\n",
       "    </tr>\n",
       "    <tr>\n",
       "      <th>2017-03-01</th>\n",
       "      <td>2017</td>\n",
       "      <td>Centro - Calbayog</td>\n",
       "      <td>48766.00</td>\n",
       "    </tr>\n",
       "    <tr>\n",
       "      <th>2017-04-01</th>\n",
       "      <td>2017</td>\n",
       "      <td>Centro - Calbayog</td>\n",
       "      <td>45726.95</td>\n",
       "    </tr>\n",
       "    <tr>\n",
       "      <th>2017-05-01</th>\n",
       "      <td>2017</td>\n",
       "      <td>Centro - Calbayog</td>\n",
       "      <td>0.00</td>\n",
       "    </tr>\n",
       "    <tr>\n",
       "      <th>...</th>\n",
       "      <td>...</td>\n",
       "      <td>...</td>\n",
       "      <td>...</td>\n",
       "    </tr>\n",
       "    <tr>\n",
       "      <th>2017-08-01</th>\n",
       "      <td>2017</td>\n",
       "      <td>Zalora</td>\n",
       "      <td>0.00</td>\n",
       "    </tr>\n",
       "    <tr>\n",
       "      <th>2017-09-01</th>\n",
       "      <td>2017</td>\n",
       "      <td>Zalora</td>\n",
       "      <td>3990.00</td>\n",
       "    </tr>\n",
       "    <tr>\n",
       "      <th>2017-10-01</th>\n",
       "      <td>2017</td>\n",
       "      <td>Zalora</td>\n",
       "      <td>1995.00</td>\n",
       "    </tr>\n",
       "    <tr>\n",
       "      <th>2017-11-01</th>\n",
       "      <td>2017</td>\n",
       "      <td>Zalora</td>\n",
       "      <td>0.00</td>\n",
       "    </tr>\n",
       "    <tr>\n",
       "      <th>2017-12-01</th>\n",
       "      <td>2017</td>\n",
       "      <td>Zalora</td>\n",
       "      <td>3990.00</td>\n",
       "    </tr>\n",
       "  </tbody>\n",
       "</table>\n",
       "<p>720 rows × 3 columns</p>\n",
       "</div>"
      ],
      "text/plain": [
       "            Year              Store     Sales\n",
       "Date                                         \n",
       "2017-01-01  2017  Centro - Calbayog  67648.95\n",
       "2017-02-01  2017  Centro - Calbayog  29128.00\n",
       "2017-03-01  2017  Centro - Calbayog  48766.00\n",
       "2017-04-01  2017  Centro - Calbayog  45726.95\n",
       "2017-05-01  2017  Centro - Calbayog      0.00\n",
       "...          ...                ...       ...\n",
       "2017-08-01  2017             Zalora      0.00\n",
       "2017-09-01  2017             Zalora   3990.00\n",
       "2017-10-01  2017             Zalora   1995.00\n",
       "2017-11-01  2017             Zalora      0.00\n",
       "2017-12-01  2017             Zalora   3990.00\n",
       "\n",
       "[720 rows x 3 columns]"
      ]
     },
     "execution_count": 35,
     "metadata": {},
     "output_type": "execute_result"
    }
   ],
   "source": [
    "data=store_data.loc[store_data['Year']=='2017']\n",
    "data\n",
    "#data.loc[data.notin('2007')]"
   ]
  },
  {
   "cell_type": "code",
   "execution_count": 19,
   "metadata": {},
   "outputs": [
    {
     "data": {
      "text/html": [
       "<div>\n",
       "<style scoped>\n",
       "    .dataframe tbody tr th:only-of-type {\n",
       "        vertical-align: middle;\n",
       "    }\n",
       "\n",
       "    .dataframe tbody tr th {\n",
       "        vertical-align: top;\n",
       "    }\n",
       "\n",
       "    .dataframe thead th {\n",
       "        text-align: right;\n",
       "    }\n",
       "</style>\n",
       "<table border=\"1\" class=\"dataframe\">\n",
       "  <thead>\n",
       "    <tr style=\"text-align: right;\">\n",
       "      <th></th>\n",
       "      <th></th>\n",
       "      <th>Sales</th>\n",
       "    </tr>\n",
       "    <tr>\n",
       "      <th>Store</th>\n",
       "      <th>Year</th>\n",
       "      <th></th>\n",
       "    </tr>\n",
       "  </thead>\n",
       "  <tbody>\n",
       "    <tr>\n",
       "      <th>Fitmart - Tacurong</th>\n",
       "      <th>2013</th>\n",
       "      <td>476.3</td>\n",
       "    </tr>\n",
       "  </tbody>\n",
       "</table>\n",
       "</div>"
      ],
      "text/plain": [
       "                         Sales\n",
       "Store              Year       \n",
       "Fitmart - Tacurong 2013  476.3"
      ]
     },
     "execution_count": 19,
     "metadata": {},
     "output_type": "execute_result"
    }
   ],
   "source": [
    "data.loc[(data['Sales']>0) & (data['Sales']<1000)]"
   ]
  },
  {
   "cell_type": "code",
   "execution_count": 26,
   "metadata": {
    "scrolled": false
   },
   "outputs": [
    {
     "ename": "KeyError",
     "evalue": "'Year'",
     "output_type": "error",
     "traceback": [
      "\u001b[1;31m---------------------------------------------------------------------------\u001b[0m",
      "\u001b[1;31mKeyError\u001b[0m                                  Traceback (most recent call last)",
      "\u001b[1;32m~\\Anaconda3\\lib\\site-packages\\pandas\\core\\indexes\\base.py\u001b[0m in \u001b[0;36mget_loc\u001b[1;34m(self, key, method, tolerance)\u001b[0m\n\u001b[0;32m   2524\u001b[0m             \u001b[1;32mtry\u001b[0m\u001b[1;33m:\u001b[0m\u001b[1;33m\u001b[0m\u001b[0m\n\u001b[1;32m-> 2525\u001b[1;33m                 \u001b[1;32mreturn\u001b[0m \u001b[0mself\u001b[0m\u001b[1;33m.\u001b[0m\u001b[0m_engine\u001b[0m\u001b[1;33m.\u001b[0m\u001b[0mget_loc\u001b[0m\u001b[1;33m(\u001b[0m\u001b[0mkey\u001b[0m\u001b[1;33m)\u001b[0m\u001b[1;33m\u001b[0m\u001b[0m\n\u001b[0m\u001b[0;32m   2526\u001b[0m             \u001b[1;32mexcept\u001b[0m \u001b[0mKeyError\u001b[0m\u001b[1;33m:\u001b[0m\u001b[1;33m\u001b[0m\u001b[0m\n",
      "\u001b[1;32mpandas\\_libs\\index.pyx\u001b[0m in \u001b[0;36mpandas._libs.index.IndexEngine.get_loc\u001b[1;34m()\u001b[0m\n",
      "\u001b[1;32mpandas\\_libs\\index.pyx\u001b[0m in \u001b[0;36mpandas._libs.index.IndexEngine.get_loc\u001b[1;34m()\u001b[0m\n",
      "\u001b[1;32mpandas\\_libs\\hashtable_class_helper.pxi\u001b[0m in \u001b[0;36mpandas._libs.hashtable.PyObjectHashTable.get_item\u001b[1;34m()\u001b[0m\n",
      "\u001b[1;32mpandas\\_libs\\hashtable_class_helper.pxi\u001b[0m in \u001b[0;36mpandas._libs.hashtable.PyObjectHashTable.get_item\u001b[1;34m()\u001b[0m\n",
      "\u001b[1;31mKeyError\u001b[0m: 'Year'",
      "\nDuring handling of the above exception, another exception occurred:\n",
      "\u001b[1;31mKeyError\u001b[0m                                  Traceback (most recent call last)",
      "\u001b[1;32m<ipython-input-26-4afb14cff61c>\u001b[0m in \u001b[0;36m<module>\u001b[1;34m()\u001b[0m\n\u001b[1;32m----> 1\u001b[1;33m \u001b[0mdata\u001b[0m\u001b[1;33m.\u001b[0m\u001b[0mloc\u001b[0m\u001b[1;33m[\u001b[0m\u001b[0mdata\u001b[0m\u001b[1;33m[\u001b[0m\u001b[1;34m'Year'\u001b[0m\u001b[1;33m]\u001b[0m\u001b[1;33m.\u001b[0m\u001b[0misin\u001b[0m\u001b[1;33m(\u001b[0m\u001b[1;34m'2017'\u001b[0m\u001b[1;33m)\u001b[0m\u001b[1;33m]\u001b[0m\u001b[1;33m\u001b[0m\u001b[0m\n\u001b[0m",
      "\u001b[1;32m~\\Anaconda3\\lib\\site-packages\\pandas\\core\\frame.py\u001b[0m in \u001b[0;36m__getitem__\u001b[1;34m(self, key)\u001b[0m\n\u001b[0;32m   2137\u001b[0m             \u001b[1;32mreturn\u001b[0m \u001b[0mself\u001b[0m\u001b[1;33m.\u001b[0m\u001b[0m_getitem_multilevel\u001b[0m\u001b[1;33m(\u001b[0m\u001b[0mkey\u001b[0m\u001b[1;33m)\u001b[0m\u001b[1;33m\u001b[0m\u001b[0m\n\u001b[0;32m   2138\u001b[0m         \u001b[1;32melse\u001b[0m\u001b[1;33m:\u001b[0m\u001b[1;33m\u001b[0m\u001b[0m\n\u001b[1;32m-> 2139\u001b[1;33m             \u001b[1;32mreturn\u001b[0m \u001b[0mself\u001b[0m\u001b[1;33m.\u001b[0m\u001b[0m_getitem_column\u001b[0m\u001b[1;33m(\u001b[0m\u001b[0mkey\u001b[0m\u001b[1;33m)\u001b[0m\u001b[1;33m\u001b[0m\u001b[0m\n\u001b[0m\u001b[0;32m   2140\u001b[0m \u001b[1;33m\u001b[0m\u001b[0m\n\u001b[0;32m   2141\u001b[0m     \u001b[1;32mdef\u001b[0m \u001b[0m_getitem_column\u001b[0m\u001b[1;33m(\u001b[0m\u001b[0mself\u001b[0m\u001b[1;33m,\u001b[0m \u001b[0mkey\u001b[0m\u001b[1;33m)\u001b[0m\u001b[1;33m:\u001b[0m\u001b[1;33m\u001b[0m\u001b[0m\n",
      "\u001b[1;32m~\\Anaconda3\\lib\\site-packages\\pandas\\core\\frame.py\u001b[0m in \u001b[0;36m_getitem_column\u001b[1;34m(self, key)\u001b[0m\n\u001b[0;32m   2144\u001b[0m         \u001b[1;31m# get column\u001b[0m\u001b[1;33m\u001b[0m\u001b[1;33m\u001b[0m\u001b[0m\n\u001b[0;32m   2145\u001b[0m         \u001b[1;32mif\u001b[0m \u001b[0mself\u001b[0m\u001b[1;33m.\u001b[0m\u001b[0mcolumns\u001b[0m\u001b[1;33m.\u001b[0m\u001b[0mis_unique\u001b[0m\u001b[1;33m:\u001b[0m\u001b[1;33m\u001b[0m\u001b[0m\n\u001b[1;32m-> 2146\u001b[1;33m             \u001b[1;32mreturn\u001b[0m \u001b[0mself\u001b[0m\u001b[1;33m.\u001b[0m\u001b[0m_get_item_cache\u001b[0m\u001b[1;33m(\u001b[0m\u001b[0mkey\u001b[0m\u001b[1;33m)\u001b[0m\u001b[1;33m\u001b[0m\u001b[0m\n\u001b[0m\u001b[0;32m   2147\u001b[0m \u001b[1;33m\u001b[0m\u001b[0m\n\u001b[0;32m   2148\u001b[0m         \u001b[1;31m# duplicate columns & possible reduce dimensionality\u001b[0m\u001b[1;33m\u001b[0m\u001b[1;33m\u001b[0m\u001b[0m\n",
      "\u001b[1;32m~\\Anaconda3\\lib\\site-packages\\pandas\\core\\generic.py\u001b[0m in \u001b[0;36m_get_item_cache\u001b[1;34m(self, item)\u001b[0m\n\u001b[0;32m   1840\u001b[0m         \u001b[0mres\u001b[0m \u001b[1;33m=\u001b[0m \u001b[0mcache\u001b[0m\u001b[1;33m.\u001b[0m\u001b[0mget\u001b[0m\u001b[1;33m(\u001b[0m\u001b[0mitem\u001b[0m\u001b[1;33m)\u001b[0m\u001b[1;33m\u001b[0m\u001b[0m\n\u001b[0;32m   1841\u001b[0m         \u001b[1;32mif\u001b[0m \u001b[0mres\u001b[0m \u001b[1;32mis\u001b[0m \u001b[1;32mNone\u001b[0m\u001b[1;33m:\u001b[0m\u001b[1;33m\u001b[0m\u001b[0m\n\u001b[1;32m-> 1842\u001b[1;33m             \u001b[0mvalues\u001b[0m \u001b[1;33m=\u001b[0m \u001b[0mself\u001b[0m\u001b[1;33m.\u001b[0m\u001b[0m_data\u001b[0m\u001b[1;33m.\u001b[0m\u001b[0mget\u001b[0m\u001b[1;33m(\u001b[0m\u001b[0mitem\u001b[0m\u001b[1;33m)\u001b[0m\u001b[1;33m\u001b[0m\u001b[0m\n\u001b[0m\u001b[0;32m   1843\u001b[0m             \u001b[0mres\u001b[0m \u001b[1;33m=\u001b[0m \u001b[0mself\u001b[0m\u001b[1;33m.\u001b[0m\u001b[0m_box_item_values\u001b[0m\u001b[1;33m(\u001b[0m\u001b[0mitem\u001b[0m\u001b[1;33m,\u001b[0m \u001b[0mvalues\u001b[0m\u001b[1;33m)\u001b[0m\u001b[1;33m\u001b[0m\u001b[0m\n\u001b[0;32m   1844\u001b[0m             \u001b[0mcache\u001b[0m\u001b[1;33m[\u001b[0m\u001b[0mitem\u001b[0m\u001b[1;33m]\u001b[0m \u001b[1;33m=\u001b[0m \u001b[0mres\u001b[0m\u001b[1;33m\u001b[0m\u001b[0m\n",
      "\u001b[1;32m~\\Anaconda3\\lib\\site-packages\\pandas\\core\\internals.py\u001b[0m in \u001b[0;36mget\u001b[1;34m(self, item, fastpath)\u001b[0m\n\u001b[0;32m   3841\u001b[0m \u001b[1;33m\u001b[0m\u001b[0m\n\u001b[0;32m   3842\u001b[0m             \u001b[1;32mif\u001b[0m \u001b[1;32mnot\u001b[0m \u001b[0misna\u001b[0m\u001b[1;33m(\u001b[0m\u001b[0mitem\u001b[0m\u001b[1;33m)\u001b[0m\u001b[1;33m:\u001b[0m\u001b[1;33m\u001b[0m\u001b[0m\n\u001b[1;32m-> 3843\u001b[1;33m                 \u001b[0mloc\u001b[0m \u001b[1;33m=\u001b[0m \u001b[0mself\u001b[0m\u001b[1;33m.\u001b[0m\u001b[0mitems\u001b[0m\u001b[1;33m.\u001b[0m\u001b[0mget_loc\u001b[0m\u001b[1;33m(\u001b[0m\u001b[0mitem\u001b[0m\u001b[1;33m)\u001b[0m\u001b[1;33m\u001b[0m\u001b[0m\n\u001b[0m\u001b[0;32m   3844\u001b[0m             \u001b[1;32melse\u001b[0m\u001b[1;33m:\u001b[0m\u001b[1;33m\u001b[0m\u001b[0m\n\u001b[0;32m   3845\u001b[0m                 \u001b[0mindexer\u001b[0m \u001b[1;33m=\u001b[0m \u001b[0mnp\u001b[0m\u001b[1;33m.\u001b[0m\u001b[0marange\u001b[0m\u001b[1;33m(\u001b[0m\u001b[0mlen\u001b[0m\u001b[1;33m(\u001b[0m\u001b[0mself\u001b[0m\u001b[1;33m.\u001b[0m\u001b[0mitems\u001b[0m\u001b[1;33m)\u001b[0m\u001b[1;33m)\u001b[0m\u001b[1;33m[\u001b[0m\u001b[0misna\u001b[0m\u001b[1;33m(\u001b[0m\u001b[0mself\u001b[0m\u001b[1;33m.\u001b[0m\u001b[0mitems\u001b[0m\u001b[1;33m)\u001b[0m\u001b[1;33m]\u001b[0m\u001b[1;33m\u001b[0m\u001b[0m\n",
      "\u001b[1;32m~\\Anaconda3\\lib\\site-packages\\pandas\\core\\indexes\\base.py\u001b[0m in \u001b[0;36mget_loc\u001b[1;34m(self, key, method, tolerance)\u001b[0m\n\u001b[0;32m   2525\u001b[0m                 \u001b[1;32mreturn\u001b[0m \u001b[0mself\u001b[0m\u001b[1;33m.\u001b[0m\u001b[0m_engine\u001b[0m\u001b[1;33m.\u001b[0m\u001b[0mget_loc\u001b[0m\u001b[1;33m(\u001b[0m\u001b[0mkey\u001b[0m\u001b[1;33m)\u001b[0m\u001b[1;33m\u001b[0m\u001b[0m\n\u001b[0;32m   2526\u001b[0m             \u001b[1;32mexcept\u001b[0m \u001b[0mKeyError\u001b[0m\u001b[1;33m:\u001b[0m\u001b[1;33m\u001b[0m\u001b[0m\n\u001b[1;32m-> 2527\u001b[1;33m                 \u001b[1;32mreturn\u001b[0m \u001b[0mself\u001b[0m\u001b[1;33m.\u001b[0m\u001b[0m_engine\u001b[0m\u001b[1;33m.\u001b[0m\u001b[0mget_loc\u001b[0m\u001b[1;33m(\u001b[0m\u001b[0mself\u001b[0m\u001b[1;33m.\u001b[0m\u001b[0m_maybe_cast_indexer\u001b[0m\u001b[1;33m(\u001b[0m\u001b[0mkey\u001b[0m\u001b[1;33m)\u001b[0m\u001b[1;33m)\u001b[0m\u001b[1;33m\u001b[0m\u001b[0m\n\u001b[0m\u001b[0;32m   2528\u001b[0m \u001b[1;33m\u001b[0m\u001b[0m\n\u001b[0;32m   2529\u001b[0m         \u001b[0mindexer\u001b[0m \u001b[1;33m=\u001b[0m \u001b[0mself\u001b[0m\u001b[1;33m.\u001b[0m\u001b[0mget_indexer\u001b[0m\u001b[1;33m(\u001b[0m\u001b[1;33m[\u001b[0m\u001b[0mkey\u001b[0m\u001b[1;33m]\u001b[0m\u001b[1;33m,\u001b[0m \u001b[0mmethod\u001b[0m\u001b[1;33m=\u001b[0m\u001b[0mmethod\u001b[0m\u001b[1;33m,\u001b[0m \u001b[0mtolerance\u001b[0m\u001b[1;33m=\u001b[0m\u001b[0mtolerance\u001b[0m\u001b[1;33m)\u001b[0m\u001b[1;33m\u001b[0m\u001b[0m\n",
      "\u001b[1;32mpandas\\_libs\\index.pyx\u001b[0m in \u001b[0;36mpandas._libs.index.IndexEngine.get_loc\u001b[1;34m()\u001b[0m\n",
      "\u001b[1;32mpandas\\_libs\\index.pyx\u001b[0m in \u001b[0;36mpandas._libs.index.IndexEngine.get_loc\u001b[1;34m()\u001b[0m\n",
      "\u001b[1;32mpandas\\_libs\\hashtable_class_helper.pxi\u001b[0m in \u001b[0;36mpandas._libs.hashtable.PyObjectHashTable.get_item\u001b[1;34m()\u001b[0m\n",
      "\u001b[1;32mpandas\\_libs\\hashtable_class_helper.pxi\u001b[0m in \u001b[0;36mpandas._libs.hashtable.PyObjectHashTable.get_item\u001b[1;34m()\u001b[0m\n",
      "\u001b[1;31mKeyError\u001b[0m: 'Year'"
     ]
    }
   ],
   "source": [
    "data.loc[data['Year'].isin('2017')]"
   ]
  },
  {
   "cell_type": "code",
   "execution_count": null,
   "metadata": {},
   "outputs": [],
   "source": []
  },
  {
   "cell_type": "code",
   "execution_count": 154,
   "metadata": {},
   "outputs": [
    {
     "data": {
      "text/html": [
       "<div>\n",
       "<style scoped>\n",
       "    .dataframe tbody tr th:only-of-type {\n",
       "        vertical-align: middle;\n",
       "    }\n",
       "\n",
       "    .dataframe tbody tr th {\n",
       "        vertical-align: top;\n",
       "    }\n",
       "\n",
       "    .dataframe thead th {\n",
       "        text-align: right;\n",
       "    }\n",
       "</style>\n",
       "<table border=\"1\" class=\"dataframe\">\n",
       "  <thead>\n",
       "    <tr style=\"text-align: right;\">\n",
       "      <th></th>\n",
       "      <th>Sales</th>\n",
       "    </tr>\n",
       "    <tr>\n",
       "      <th>Date</th>\n",
       "      <th></th>\n",
       "    </tr>\n",
       "  </thead>\n",
       "  <tbody>\n",
       "    <tr>\n",
       "      <th>2003-01-01</th>\n",
       "      <td>1.9777387100e+06</td>\n",
       "    </tr>\n",
       "    <tr>\n",
       "      <th>2003-02-01</th>\n",
       "      <td>1.7335998600e+06</td>\n",
       "    </tr>\n",
       "    <tr>\n",
       "      <th>2003-03-01</th>\n",
       "      <td>1.9129657400e+06</td>\n",
       "    </tr>\n",
       "  </tbody>\n",
       "</table>\n",
       "</div>"
      ],
      "text/plain": [
       "                       Sales\n",
       "Date                        \n",
       "2003-01-01  1.9777387100e+06\n",
       "2003-02-01  1.7335998600e+06\n",
       "2003-03-01  1.9129657400e+06"
      ]
     },
     "metadata": {},
     "output_type": "display_data"
    },
    {
     "data": {
      "text/plain": [
       "<matplotlib.axes._subplots.AxesSubplot at 0x1f1996b5320>"
      ]
     },
     "execution_count": 154,
     "metadata": {},
     "output_type": "execute_result"
    },
    {
     "data": {
      "image/png": "[encoded data removed]",
      "text/plain": [
       "<Figure size 432x288 with 1 Axes>"
      ]
     },
     "metadata": {},
     "output_type": "display_data"
    }
   ],
   "source": [
    "data=store_data.groupby('Date').sum()\n",
    "display(data.head(3))\n",
    "data.plot()"
   ]
  },
  {
   "cell_type": "code",
   "execution_count": 155,
   "metadata": {},
   "outputs": [
    {
     "data": {
      "text/plain": [
       "<matplotlib.axes._subplots.AxesSubplot at 0x1f199be8f28>"
      ]
     },
     "execution_count": 155,
     "metadata": {},
     "output_type": "execute_result"
    },
    {
     "data": {
      "image/png": "[encoded data removed]",
      "text/plain": [
       "<Figure size 432x288 with 1 Axes>"
      ]
     },
     "metadata": {},
     "output_type": "display_data"
    }
   ],
   "source": [
    "from pandas.plotting import lag_plot\n",
    "lag_plot(data)"
   ]
  },
  {
   "cell_type": "code",
   "execution_count": 9,
   "metadata": {},
   "outputs": [
    {
     "data": {
      "text/plain": [
       "array([[<matplotlib.axes._subplots.AxesSubplot object at 0x0000018669496B00>]],\n",
       "      dtype=object)"
      ]
     },
     "execution_count": 9,
     "metadata": {},
     "output_type": "execute_result"
    },
    {
     "data": {
      "image/png": "[encoded data removed]",
      "text/plain": [
       "<Figure size 432x288 with 1 Axes>"
      ]
     },
     "metadata": {},
     "output_type": "display_data"
    }
   ],
   "source": [
    "data.hist()"
   ]
  },
  {
   "cell_type": "code",
   "execution_count": 10,
   "metadata": {},
   "outputs": [],
   "source": [
    "\n",
    "def dec_plot(data):\n",
    "    from statsmodels.tsa.seasonal import seasonal_decompose\n",
    "    result=seasonal_decompose(data,model='additive')\n",
    "    result.plot()\n",
    "    plt.show();\n",
    "\n",
    "def corr_plot(data):\n",
    "    from statsmodels.graphics.tsaplots import plot_acf,plot_pacf\n",
    "    acf=plot_acf(data,lags=25,zero=False)\n",
    "    plt.axhline(y=-1.96/np.sqrt(len(data)),linestyle='--',color='gray')\n",
    "    plt.axhline(y=1.96/np.sqrt(len(data)),linestyle='--',color='gray')\n",
    "    pacf=plot_pacf(data,lags=25,zero=False)\n",
    "    plt.show()\n",
    "    \n",
    "def adf_test(data):\n",
    "    from statsmodels.tsa.stattools import adfuller\n",
    "    result=adfuller(data['Sales'])\n",
    "    df_res=pd.Series(result[0:4],index=['ADF Test Statistic','p-value','#lags used','# of observations'])\n",
    "    for key,value in result[4].items():\n",
    "        df_res['Critical value (%s)'%key]=value\n",
    "    print(df_res)"
   ]
  },
  {
   "cell_type": "code",
   "execution_count": 11,
   "metadata": {},
   "outputs": [
    {
     "name": "stdout",
     "output_type": "stream",
     "text": [
      "ADF Test Statistic       -0.5235209269\n",
      "p-value                   0.8873442437\n",
      "#lags used               13.0000000000\n",
      "# of observations       166.0000000000\n",
      "Critical value (1%)      -3.4703698981\n",
      "Critical value (5%)      -2.8791138498\n",
      "Critical value (10%)     -2.5761394078\n",
      "dtype: float64\n"
     ]
    },
    {
     "name": "stderr",
     "output_type": "stream",
     "text": [
      "C:\\Users\\ndrs\\Anaconda3\\lib\\site-packages\\statsmodels\\compat\\pandas.py:56: FutureWarning: The pandas.core.datetools module is deprecated and will be removed in a future version. Please use the pandas.tseries module instead.\n",
      "  from pandas.core import datetools\n"
     ]
    }
   ],
   "source": [
    "adf_test(data)"
   ]
  },
  {
   "cell_type": "code",
   "execution_count": 12,
   "metadata": {},
   "outputs": [
    {
     "data": {
      "image/png": "[encoded data removed]",
      "text/plain": [
       "<Figure size 432x288 with 4 Axes>"
      ]
     },
     "metadata": {},
     "output_type": "display_data"
    }
   ],
   "source": [
    "dec_plot(data)"
   ]
  },
  {
   "cell_type": "code",
   "execution_count": 13,
   "metadata": {},
   "outputs": [
    {
     "data": {
      "text/plain": [
       "<matplotlib.axes._subplots.AxesSubplot at 0x1866b410f60>"
      ]
     },
     "execution_count": 13,
     "metadata": {},
     "output_type": "execute_result"
    },
    {
     "data": {
      "image/png": "[encoded data removed]",
      "text/plain": [
       "<Figure size 432x288 with 1 Axes>"
      ]
     },
     "metadata": {},
     "output_type": "display_data"
    }
   ],
   "source": [
    "seas_diff=data.diff(12)\n",
    "seas_diff.dropna(inplace=True)\n",
    "seas_diff.plot()"
   ]
  },
  {
   "cell_type": "code",
   "execution_count": 14,
   "metadata": {},
   "outputs": [
    {
     "name": "stdout",
     "output_type": "stream",
     "text": [
      "ADF Test Statistic       -2.6606099751\n",
      "p-value                   0.0811059794\n",
      "#lags used               14.0000000000\n",
      "# of observations       153.0000000000\n",
      "Critical value (1%)      -3.4738297757\n",
      "Critical value (5%)      -2.8806228997\n",
      "Critical value (10%)     -2.5769448985\n",
      "dtype: float64\n"
     ]
    }
   ],
   "source": [
    "adf_test(seas_diff)"
   ]
  },
  {
   "cell_type": "code",
   "execution_count": 15,
   "metadata": {},
   "outputs": [
    {
     "data": {
      "text/plain": [
       "<matplotlib.axes._subplots.AxesSubplot at 0x1866b4d1f28>"
      ]
     },
     "execution_count": 15,
     "metadata": {},
     "output_type": "execute_result"
    },
    {
     "data": {
      "image/png": "[encoded data removed]",
      "text/plain": [
       "<Figure size 432x288 with 1 Axes>"
      ]
     },
     "metadata": {},
     "output_type": "display_data"
    }
   ],
   "source": [
    "first_diff=seas_diff.diff(1)\n",
    "first_diff.dropna(inplace=True)\n",
    "first_diff.plot()"
   ]
  },
  {
   "cell_type": "code",
   "execution_count": 16,
   "metadata": {},
   "outputs": [
    {
     "name": "stdout",
     "output_type": "stream",
     "text": [
      "ADF Test Statistic       -5.1056919376\n",
      "p-value                   0.0000136542\n",
      "#lags used               13.0000000000\n",
      "# of observations       153.0000000000\n",
      "Critical value (1%)      -3.4738297757\n",
      "Critical value (5%)      -2.8806228997\n",
      "Critical value (10%)     -2.5769448985\n",
      "dtype: float64\n"
     ]
    }
   ],
   "source": [
    "adf_test(first_diff)"
   ]
  },
  {
   "cell_type": "code",
   "execution_count": 17,
   "metadata": {},
   "outputs": [
    {
     "data": {
      "text/plain": [
       "array([[<matplotlib.axes._subplots.AxesSubplot object at 0x000001866B5594E0>]],\n",
       "      dtype=object)"
      ]
     },
     "execution_count": 17,
     "metadata": {},
     "output_type": "execute_result"
    },
    {
     "data": {
      "image/png": "[encoded data removed]",
      "text/plain": [
       "<Figure size 432x288 with 1 Axes>"
      ]
     },
     "metadata": {},
     "output_type": "display_data"
    }
   ],
   "source": [
    "first_diff.hist()"
   ]
  },
  {
   "cell_type": "code",
   "execution_count": 18,
   "metadata": {},
   "outputs": [
    {
     "data": {
      "image/png": "[encoded data removed]",
      "text/plain": [
       "<Figure size 432x288 with 4 Axes>"
      ]
     },
     "metadata": {},
     "output_type": "display_data"
    }
   ],
   "source": [
    "dec_plot(first_diff)"
   ]
  },
  {
   "cell_type": "code",
   "execution_count": 19,
   "metadata": {},
   "outputs": [
    {
     "data": {
      "image/png": "[encoded data removed]",
      "text/plain": [
       "<Figure size 432x288 with 1 Axes>"
      ]
     },
     "metadata": {},
     "output_type": "display_data"
    },
    {
     "data": {
      "image/png": "[encoded data removed]",
      "text/plain": [
       "<Figure size 432x288 with 1 Axes>"
      ]
     },
     "metadata": {},
     "output_type": "display_data"
    }
   ],
   "source": [
    "corr_plot(first_diff)"
   ]
  },
  {
   "cell_type": "code",
   "execution_count": 20,
   "metadata": {},
   "outputs": [
    {
     "data": {
      "text/plain": [
       "DatetimeIndex(['2004-02-01', '2004-03-01', '2004-04-01', '2004-05-01',\n",
       "               '2004-06-01', '2004-07-01', '2004-08-01', '2004-09-01',\n",
       "               '2004-10-01', '2004-11-01',\n",
       "               ...\n",
       "               '2017-03-01', '2017-04-01', '2017-05-01', '2017-06-01',\n",
       "               '2017-07-01', '2017-08-01', '2017-09-01', '2017-10-01',\n",
       "               '2017-11-01', '2017-12-01'],\n",
       "              dtype='datetime64[ns]', name='Date', length=167, freq=None)"
      ]
     },
     "execution_count": 20,
     "metadata": {},
     "output_type": "execute_result"
    }
   ],
   "source": [
    "first_diff.index"
   ]
  },
  {
   "cell_type": "code",
   "execution_count": null,
   "metadata": {},
   "outputs": [],
   "source": []
  },
  {
   "cell_type": "code",
   "execution_count": null,
   "metadata": {},
   "outputs": [],
   "source": []
  },
  {
   "cell_type": "code",
   "execution_count": 21,
   "metadata": {},
   "outputs": [],
   "source": [
    "from sklearn.metrics import r2_score,mean_squared_error,mean_absolute_error,explained_variance_score\n",
    "from statsmodels.tools.eval_measures import rmse\n",
    "from statsmodels.tsa.statespace.sarimax import SARIMAX\n",
    "\n",
    "def acc_score(data,show_res):\n",
    "    n_data= data[data['Forecast'].notnull()]\n",
    "\n",
    "    y_true=n_data['Sales']\n",
    "    y_pred=n_data['Forecast']\n",
    "    RMSE=rmse(y_true,y_pred)\n",
    "    MAE=mean_absolute_error(y_true,y_pred)\n",
    "    R2=r2_score(y_true,y_pred)\n",
    "    MAPE=np.mean(np.abs((y_true-y_pred)/y_true))*100\n",
    "    \n",
    "    if show_res==True:\n",
    "        print(' ERROR MEASURES ')\n",
    "        print('Root Mean Squared Error: ', RMSE)\n",
    "        print('Mean Absolute Error: ', MAE)\n",
    "        print('Mean Absolute Percent Error: ', MAPE)\n",
    "        print('R2 score: ', R2)\n",
    "    \n",
    "    return RMSE,MAE,R2,MAPE\n",
    "\n",
    "def build_model(data,train_data,param,seasonal_param,show_res):\n",
    "    data_forecast=data.copy()\n",
    "   \n",
    "    model=SARIMAX(train_data,order=param,seasonal_order=seasonal_param)\n",
    "    model_fit=model.fit()\n",
    "    data_forecast['Forecast']=model_fit.forecast(steps=12)\n",
    "\n",
    "    if show_res==True:\n",
    "        print(model_fit.summary())\n",
    "        \n",
    "    return data_forecast,model_fit.aic\n",
    "\n",
    "def grid_search(data,train_data):\n",
    "    import itertools\n",
    "    import warnings\n",
    "    warnings.filterwarnings(\"ignore\")\n",
    "    \n",
    "    p=d=q = range(0,3)\n",
    "    \n",
    "    pdq=list(itertools.product(p,d,q))\n",
    "    PDQ=[(x[0], x[1], x[2], 12) for x in list(itertools.product(p, d, q))]\n",
    "    \n",
    "    arima_model=list()\n",
    "    for param in pdq:\n",
    "        for seasonal_param in PDQ:\n",
    "            try:\n",
    "\n",
    "                data_forecast,model_aic=build_model(data,train_data,param,seasonal_param,False)\n",
    "                RMSE,MAE,R2,MAPE=acc_score(data_forecast,False)\n",
    "                arima_model.append([param,seasonal_param,model_aic,RMSE,MAE,MAPE,R2])  \n",
    "                \n",
    "            except:\n",
    "                continue\n",
    "    columns=['pdq','PDQ','AIC','RMSE','MAE','MAPE','R2']\n",
    "    grid_res=pd.DataFrame(arima_model,columns=columns)\n",
    "    grid_res=grid_res.sort_values(by=['RMSE','MAE','MAPE'],ascending=True)\n",
    "    print(len(arima_model),(len(grid_res)))\n",
    "\n",
    "    return grid_res"
   ]
  },
  {
   "cell_type": "code",
   "execution_count": 22,
   "metadata": {},
   "outputs": [],
   "source": [
    "train_data=data.loc[data.index<'2017-01-01']"
   ]
  },
  {
   "cell_type": "code",
   "execution_count": 55,
   "metadata": {},
   "outputs": [
    {
     "name": "stdout",
     "output_type": "stream",
     "text": [
      "389 389\n"
     ]
    },
    {
     "data": {
      "text/html": [
       "<div>\n",
       "<style scoped>\n",
       "    .dataframe tbody tr th:only-of-type {\n",
       "        vertical-align: middle;\n",
       "    }\n",
       "\n",
       "    .dataframe tbody tr th {\n",
       "        vertical-align: top;\n",
       "    }\n",
       "\n",
       "    .dataframe thead th {\n",
       "        text-align: right;\n",
       "    }\n",
       "</style>\n",
       "<table border=\"1\" class=\"dataframe\">\n",
       "  <thead>\n",
       "    <tr style=\"text-align: right;\">\n",
       "      <th></th>\n",
       "      <th>pdq</th>\n",
       "      <th>PDQ</th>\n",
       "      <th>AIC</th>\n",
       "      <th>RMSE</th>\n",
       "      <th>MAE</th>\n",
       "      <th>MAPE</th>\n",
       "      <th>R2</th>\n",
       "    </tr>\n",
       "  </thead>\n",
       "  <tbody>\n",
       "    <tr>\n",
       "      <th>282</th>\n",
       "      <td>(2, 0, 0)</td>\n",
       "      <td>(2, 2, 2, 12)</td>\n",
       "      <td>4216.0349853480</td>\n",
       "      <td>6.9107464139e+05</td>\n",
       "      <td>5.7038968557e+05</td>\n",
       "      <td>14.5960621213</td>\n",
       "      <td>0.8370322663</td>\n",
       "    </tr>\n",
       "    <tr>\n",
       "      <th>140</th>\n",
       "      <td>(1, 0, 0)</td>\n",
       "      <td>(2, 2, 2, 12)</td>\n",
       "      <td>4218.4863042245</td>\n",
       "      <td>6.9525355160e+05</td>\n",
       "      <td>5.7147913476e+05</td>\n",
       "      <td>14.6229629701</td>\n",
       "      <td>0.8350553841</td>\n",
       "    </tr>\n",
       "    <tr>\n",
       "      <th>157</th>\n",
       "      <td>(1, 0, 1)</td>\n",
       "      <td>(2, 2, 2, 12)</td>\n",
       "      <td>4215.1048545724</td>\n",
       "      <td>6.9833843698e+05</td>\n",
       "      <td>5.6845023613e+05</td>\n",
       "      <td>14.2907466083</td>\n",
       "      <td>0.8335883967</td>\n",
       "    </tr>\n",
       "    <tr>\n",
       "      <th>297</th>\n",
       "      <td>(2, 0, 1)</td>\n",
       "      <td>(2, 2, 2, 12)</td>\n",
       "      <td>4216.9634924930</td>\n",
       "      <td>7.0264577351e+05</td>\n",
       "      <td>5.6866243855e+05</td>\n",
       "      <td>14.2175261603</td>\n",
       "      <td>0.8315292193</td>\n",
       "    </tr>\n",
       "    <tr>\n",
       "      <th>172</th>\n",
       "      <td>(1, 0, 2)</td>\n",
       "      <td>(2, 2, 2, 12)</td>\n",
       "      <td>4218.1133947722</td>\n",
       "      <td>7.0339974300e+05</td>\n",
       "      <td>5.6826158792e+05</td>\n",
       "      <td>14.1893063110</td>\n",
       "      <td>0.8311674723</td>\n",
       "    </tr>\n",
       "    <tr>\n",
       "      <th>...</th>\n",
       "      <td>...</td>\n",
       "      <td>...</td>\n",
       "      <td>...</td>\n",
       "      <td>...</td>\n",
       "      <td>...</td>\n",
       "      <td>...</td>\n",
       "      <td>...</td>\n",
       "    </tr>\n",
       "    <tr>\n",
       "      <th>350</th>\n",
       "      <td>(2, 2, 0)</td>\n",
       "      <td>(0, 0, 0, 12)</td>\n",
       "      <td>5164.9207192395</td>\n",
       "      <td>1.5682359639e+07</td>\n",
       "      <td>1.4552215959e+07</td>\n",
       "      <td>402.6266293705</td>\n",
       "      <td>-82.9217497535</td>\n",
       "    </tr>\n",
       "    <tr>\n",
       "      <th>232</th>\n",
       "      <td>(1, 2, 0)</td>\n",
       "      <td>(0, 0, 2, 12)</td>\n",
       "      <td>5120.2763520726</td>\n",
       "      <td>1.6265348517e+07</td>\n",
       "      <td>1.4979079525e+07</td>\n",
       "      <td>410.2366602423</td>\n",
       "      <td>-89.2772785428</td>\n",
       "    </tr>\n",
       "    <tr>\n",
       "      <th>96</th>\n",
       "      <td>(0, 2, 0)</td>\n",
       "      <td>(0, 0, 1, 12)</td>\n",
       "      <td>5212.4441432063</td>\n",
       "      <td>2.0911512233e+07</td>\n",
       "      <td>1.9217753640e+07</td>\n",
       "      <td>524.2064327756</td>\n",
       "      <td>-148.2184733837</td>\n",
       "    </tr>\n",
       "    <tr>\n",
       "      <th>230</th>\n",
       "      <td>(1, 2, 0)</td>\n",
       "      <td>(0, 0, 0, 12)</td>\n",
       "      <td>5213.6443311751</td>\n",
       "      <td>2.2348300515e+07</td>\n",
       "      <td>2.0579902506e+07</td>\n",
       "      <td>564.6825349877</td>\n",
       "      <td>-169.4279096013</td>\n",
       "    </tr>\n",
       "    <tr>\n",
       "      <th>97</th>\n",
       "      <td>(0, 2, 0)</td>\n",
       "      <td>(0, 0, 2, 12)</td>\n",
       "      <td>5210.7620405936</td>\n",
       "      <td>2.3263827014e+07</td>\n",
       "      <td>2.1253309722e+07</td>\n",
       "      <td>578.5867989975</td>\n",
       "      <td>-183.6775190379</td>\n",
       "    </tr>\n",
       "  </tbody>\n",
       "</table>\n",
       "<p>389 rows × 7 columns</p>\n",
       "</div>"
      ],
      "text/plain": [
       "           pdq            PDQ              AIC              RMSE  \\\n",
       "282  (2, 0, 0)  (2, 2, 2, 12)  4216.0349853480  6.9107464139e+05   \n",
       "140  (1, 0, 0)  (2, 2, 2, 12)  4218.4863042245  6.9525355160e+05   \n",
       "157  (1, 0, 1)  (2, 2, 2, 12)  4215.1048545724  6.9833843698e+05   \n",
       "297  (2, 0, 1)  (2, 2, 2, 12)  4216.9634924930  7.0264577351e+05   \n",
       "172  (1, 0, 2)  (2, 2, 2, 12)  4218.1133947722  7.0339974300e+05   \n",
       "..         ...            ...              ...               ...   \n",
       "350  (2, 2, 0)  (0, 0, 0, 12)  5164.9207192395  1.5682359639e+07   \n",
       "232  (1, 2, 0)  (0, 0, 2, 12)  5120.2763520726  1.6265348517e+07   \n",
       "96   (0, 2, 0)  (0, 0, 1, 12)  5212.4441432063  2.0911512233e+07   \n",
       "230  (1, 2, 0)  (0, 0, 0, 12)  5213.6443311751  2.2348300515e+07   \n",
       "97   (0, 2, 0)  (0, 0, 2, 12)  5210.7620405936  2.3263827014e+07   \n",
       "\n",
       "                  MAE            MAPE              R2  \n",
       "282  5.7038968557e+05   14.5960621213    0.8370322663  \n",
       "140  5.7147913476e+05   14.6229629701    0.8350553841  \n",
       "157  5.6845023613e+05   14.2907466083    0.8335883967  \n",
       "297  5.6866243855e+05   14.2175261603    0.8315292193  \n",
       "172  5.6826158792e+05   14.1893063110    0.8311674723  \n",
       "..                ...             ...             ...  \n",
       "350  1.4552215959e+07  402.6266293705  -82.9217497535  \n",
       "232  1.4979079525e+07  410.2366602423  -89.2772785428  \n",
       "96   1.9217753640e+07  524.2064327756 -148.2184733837  \n",
       "230  2.0579902506e+07  564.6825349877 -169.4279096013  \n",
       "97   2.1253309722e+07  578.5867989975 -183.6775190379  \n",
       "\n",
       "[389 rows x 7 columns]"
      ]
     },
     "metadata": {},
     "output_type": "display_data"
    }
   ],
   "source": [
    "grid_res=grid_search(data,train_data)\n",
    "display(grid_res)"
   ]
  },
  {
   "cell_type": "code",
   "execution_count": 23,
   "metadata": {},
   "outputs": [],
   "source": [
    "log_data=np.log(data)\n",
    "log_train_data=log_data.loc[log_data.index<'2017-01-01']"
   ]
  },
  {
   "cell_type": "code",
   "execution_count": 22,
   "metadata": {
    "scrolled": true
   },
   "outputs": [
    {
     "name": "stdout",
     "output_type": "stream",
     "text": [
      "409 409\n"
     ]
    },
    {
     "data": {
      "text/html": [
       "<div>\n",
       "<style scoped>\n",
       "    .dataframe tbody tr th:only-of-type {\n",
       "        vertical-align: middle;\n",
       "    }\n",
       "\n",
       "    .dataframe tbody tr th {\n",
       "        vertical-align: top;\n",
       "    }\n",
       "\n",
       "    .dataframe thead th {\n",
       "        text-align: right;\n",
       "    }\n",
       "</style>\n",
       "<table border=\"1\" class=\"dataframe\">\n",
       "  <thead>\n",
       "    <tr style=\"text-align: right;\">\n",
       "      <th></th>\n",
       "      <th>pdq</th>\n",
       "      <th>PDQ</th>\n",
       "      <th>AIC</th>\n",
       "      <th>RMSE</th>\n",
       "      <th>MAE</th>\n",
       "      <th>MAPE</th>\n",
       "      <th>R2</th>\n",
       "    </tr>\n",
       "  </thead>\n",
       "  <tbody>\n",
       "    <tr>\n",
       "      <th>264</th>\n",
       "      <td>(1, 2, 1)</td>\n",
       "      <td>(1, 1, 1, 12)</td>\n",
       "      <td>-266.5587169736</td>\n",
       "      <td>0.1352332520</td>\n",
       "      <td>0.1183900630</td>\n",
       "      <td>0.7818101535</td>\n",
       "      <td>0.7995112077</td>\n",
       "    </tr>\n",
       "    <tr>\n",
       "      <th>265</th>\n",
       "      <td>(1, 2, 1)</td>\n",
       "      <td>(1, 1, 2, 12)</td>\n",
       "      <td>-264.5602883736</td>\n",
       "      <td>0.1355298532</td>\n",
       "      <td>0.1180045708</td>\n",
       "      <td>0.7792315580</td>\n",
       "      <td>0.7986307966</td>\n",
       "    </tr>\n",
       "    <tr>\n",
       "      <th>258</th>\n",
       "      <td>(1, 2, 1)</td>\n",
       "      <td>(0, 1, 1, 12)</td>\n",
       "      <td>-268.1058812165</td>\n",
       "      <td>0.1362841172</td>\n",
       "      <td>0.1190939703</td>\n",
       "      <td>0.7867838196</td>\n",
       "      <td>0.7963832005</td>\n",
       "    </tr>\n",
       "    <tr>\n",
       "      <th>395</th>\n",
       "      <td>(2, 2, 2)</td>\n",
       "      <td>(0, 1, 1, 12)</td>\n",
       "      <td>-268.3166957914</td>\n",
       "      <td>0.1367342674</td>\n",
       "      <td>0.1201895059</td>\n",
       "      <td>0.7933969824</td>\n",
       "      <td>0.7950358754</td>\n",
       "    </tr>\n",
       "    <tr>\n",
       "      <th>272</th>\n",
       "      <td>(1, 2, 1)</td>\n",
       "      <td>(2, 1, 1, 12)</td>\n",
       "      <td>-265.3137438067</td>\n",
       "      <td>0.1369379952</td>\n",
       "      <td>0.1191937329</td>\n",
       "      <td>0.7863028733</td>\n",
       "      <td>0.7944246459</td>\n",
       "    </tr>\n",
       "    <tr>\n",
       "      <th>...</th>\n",
       "      <td>...</td>\n",
       "      <td>...</td>\n",
       "      <td>...</td>\n",
       "      <td>...</td>\n",
       "      <td>...</td>\n",
       "      <td>...</td>\n",
       "      <td>...</td>\n",
       "    </tr>\n",
       "    <tr>\n",
       "      <th>362</th>\n",
       "      <td>(2, 2, 0)</td>\n",
       "      <td>(0, 0, 0, 12)</td>\n",
       "      <td>147.5650056595</td>\n",
       "      <td>3.3584735502</td>\n",
       "      <td>3.1073822546</td>\n",
       "      <td>20.5175440070</td>\n",
       "      <td>-122.6536614993</td>\n",
       "    </tr>\n",
       "    <tr>\n",
       "      <th>95</th>\n",
       "      <td>(0, 2, 0)</td>\n",
       "      <td>(0, 0, 1, 12)</td>\n",
       "      <td>134.8090524090</td>\n",
       "      <td>3.5983798580</td>\n",
       "      <td>3.3182912177</td>\n",
       "      <td>21.8862480840</td>\n",
       "      <td>-140.9505665864</td>\n",
       "    </tr>\n",
       "    <tr>\n",
       "      <th>96</th>\n",
       "      <td>(0, 2, 0)</td>\n",
       "      <td>(0, 0, 2, 12)</td>\n",
       "      <td>105.5960305164</td>\n",
       "      <td>3.8116537548</td>\n",
       "      <td>3.4744613569</td>\n",
       "      <td>22.9172817334</td>\n",
       "      <td>-158.2758759496</td>\n",
       "    </tr>\n",
       "    <tr>\n",
       "      <th>230</th>\n",
       "      <td>(1, 2, 0)</td>\n",
       "      <td>(0, 0, 0, 12)</td>\n",
       "      <td>196.6288349435</td>\n",
       "      <td>4.6396901159</td>\n",
       "      <td>4.2630533465</td>\n",
       "      <td>28.1314768149</td>\n",
       "      <td>-234.9940569250</td>\n",
       "    </tr>\n",
       "    <tr>\n",
       "      <th>13</th>\n",
       "      <td>(0, 0, 1)</td>\n",
       "      <td>(0, 0, 0, 12)</td>\n",
       "      <td>1164.5526993342</td>\n",
       "      <td>14.5855867439</td>\n",
       "      <td>14.3755920128</td>\n",
       "      <td>95.1159856308</td>\n",
       "      <td>-2331.2275700211</td>\n",
       "    </tr>\n",
       "  </tbody>\n",
       "</table>\n",
       "<p>409 rows × 7 columns</p>\n",
       "</div>"
      ],
      "text/plain": [
       "           pdq            PDQ              AIC           RMSE            MAE  \\\n",
       "264  (1, 2, 1)  (1, 1, 1, 12)  -266.5587169736   0.1352332520   0.1183900630   \n",
       "265  (1, 2, 1)  (1, 1, 2, 12)  -264.5602883736   0.1355298532   0.1180045708   \n",
       "258  (1, 2, 1)  (0, 1, 1, 12)  -268.1058812165   0.1362841172   0.1190939703   \n",
       "395  (2, 2, 2)  (0, 1, 1, 12)  -268.3166957914   0.1367342674   0.1201895059   \n",
       "272  (1, 2, 1)  (2, 1, 1, 12)  -265.3137438067   0.1369379952   0.1191937329   \n",
       "..         ...            ...              ...            ...            ...   \n",
       "362  (2, 2, 0)  (0, 0, 0, 12)   147.5650056595   3.3584735502   3.1073822546   \n",
       "95   (0, 2, 0)  (0, 0, 1, 12)   134.8090524090   3.5983798580   3.3182912177   \n",
       "96   (0, 2, 0)  (0, 0, 2, 12)   105.5960305164   3.8116537548   3.4744613569   \n",
       "230  (1, 2, 0)  (0, 0, 0, 12)   196.6288349435   4.6396901159   4.2630533465   \n",
       "13   (0, 0, 1)  (0, 0, 0, 12)  1164.5526993342  14.5855867439  14.3755920128   \n",
       "\n",
       "              MAPE               R2  \n",
       "264   0.7818101535     0.7995112077  \n",
       "265   0.7792315580     0.7986307966  \n",
       "258   0.7867838196     0.7963832005  \n",
       "395   0.7933969824     0.7950358754  \n",
       "272   0.7863028733     0.7944246459  \n",
       "..             ...              ...  \n",
       "362  20.5175440070  -122.6536614993  \n",
       "95   21.8862480840  -140.9505665864  \n",
       "96   22.9172817334  -158.2758759496  \n",
       "230  28.1314768149  -234.9940569250  \n",
       "13   95.1159856308 -2331.2275700211  \n",
       "\n",
       "[409 rows x 7 columns]"
      ]
     },
     "metadata": {},
     "output_type": "display_data"
    }
   ],
   "source": [
    "log_grid_res=grid_search(log_data,log_train_data)\n",
    "display(log_grid_res)"
   ]
  },
  {
   "cell_type": "code",
   "execution_count": 24,
   "metadata": {},
   "outputs": [],
   "source": [
    "from sklearn.preprocessing import StandardScaler\n",
    "scaler=StandardScaler()\n",
    "scaled_data=scaler.fit_transform(data)\n",
    "columns=data.columns.values\n",
    "scaled_data = pd.DataFrame(scaled_data, columns=columns,index=data.index.values)\n",
    "scaled_train_data=scaled_data.loc[scaled_data.index<'2017-01-01']"
   ]
  },
  {
   "cell_type": "code",
   "execution_count": 28,
   "metadata": {},
   "outputs": [
    {
     "name": "stdout",
     "output_type": "stream",
     "text": [
      "440 440\n"
     ]
    },
    {
     "data": {
      "text/html": [
       "<div>\n",
       "<style scoped>\n",
       "    .dataframe tbody tr th:only-of-type {\n",
       "        vertical-align: middle;\n",
       "    }\n",
       "\n",
       "    .dataframe tbody tr th {\n",
       "        vertical-align: top;\n",
       "    }\n",
       "\n",
       "    .dataframe thead th {\n",
       "        text-align: right;\n",
       "    }\n",
       "</style>\n",
       "<table border=\"1\" class=\"dataframe\">\n",
       "  <thead>\n",
       "    <tr style=\"text-align: right;\">\n",
       "      <th></th>\n",
       "      <th>pdq</th>\n",
       "      <th>PDQ</th>\n",
       "      <th>AIC</th>\n",
       "      <th>RMSE</th>\n",
       "      <th>MAE</th>\n",
       "      <th>MAPE</th>\n",
       "      <th>R2</th>\n",
       "    </tr>\n",
       "  </thead>\n",
       "  <tbody>\n",
       "    <tr>\n",
       "      <th>417</th>\n",
       "      <td>(2, 2, 0)</td>\n",
       "      <td>(2, 2, 1, 12)</td>\n",
       "      <td>177.3066908627</td>\n",
       "      <td>0.6076485988</td>\n",
       "      <td>0.5276047199</td>\n",
       "      <td>118.5317781740</td>\n",
       "      <td>0.8421193104</td>\n",
       "    </tr>\n",
       "    <tr>\n",
       "      <th>418</th>\n",
       "      <td>(2, 2, 0)</td>\n",
       "      <td>(2, 2, 2, 12)</td>\n",
       "      <td>179.3039223858</td>\n",
       "      <td>0.6092684029</td>\n",
       "      <td>0.5336382654</td>\n",
       "      <td>116.5299986742</td>\n",
       "      <td>0.8412764659</td>\n",
       "    </tr>\n",
       "    <tr>\n",
       "      <th>290</th>\n",
       "      <td>(1, 2, 0)</td>\n",
       "      <td>(2, 2, 1, 12)</td>\n",
       "      <td>208.8322027578</td>\n",
       "      <td>0.6399064466</td>\n",
       "      <td>0.5793694156</td>\n",
       "      <td>115.4304846377</td>\n",
       "      <td>0.8249117573</td>\n",
       "    </tr>\n",
       "    <tr>\n",
       "      <th>77</th>\n",
       "      <td>(0, 1, 0)</td>\n",
       "      <td>(2, 2, 1, 12)</td>\n",
       "      <td>125.0950323445</td>\n",
       "      <td>0.6452726443</td>\n",
       "      <td>0.5647825354</td>\n",
       "      <td>100.9533123596</td>\n",
       "      <td>0.8219628961</td>\n",
       "    </tr>\n",
       "    <tr>\n",
       "      <th>399</th>\n",
       "      <td>(2, 1, 2)</td>\n",
       "      <td>(2, 2, 1, 12)</td>\n",
       "      <td>109.9712729444</td>\n",
       "      <td>0.6467679768</td>\n",
       "      <td>0.5498394239</td>\n",
       "      <td>94.7952635180</td>\n",
       "      <td>0.8211367860</td>\n",
       "    </tr>\n",
       "    <tr>\n",
       "      <th>...</th>\n",
       "      <td>...</td>\n",
       "      <td>...</td>\n",
       "      <td>...</td>\n",
       "      <td>...</td>\n",
       "      <td>...</td>\n",
       "      <td>...</td>\n",
       "      <td>...</td>\n",
       "    </tr>\n",
       "    <tr>\n",
       "      <th>401</th>\n",
       "      <td>(2, 2, 0)</td>\n",
       "      <td>(0, 0, 0, 12)</td>\n",
       "      <td>540.8600155277</td>\n",
       "      <td>14.0139661776</td>\n",
       "      <td>13.0040157713</td>\n",
       "      <td>2721.5701697274</td>\n",
       "      <td>-82.9742517856</td>\n",
       "    </tr>\n",
       "    <tr>\n",
       "      <th>276</th>\n",
       "      <td>(1, 2, 0)</td>\n",
       "      <td>(0, 0, 2, 12)</td>\n",
       "      <td>426.3129193883</td>\n",
       "      <td>14.3044678379</td>\n",
       "      <td>13.2078277293</td>\n",
       "      <td>2723.3199226603</td>\n",
       "      <td>-86.4918146315</td>\n",
       "    </tr>\n",
       "    <tr>\n",
       "      <th>117</th>\n",
       "      <td>(0, 2, 0)</td>\n",
       "      <td>(0, 0, 1, 12)</td>\n",
       "      <td>511.4116379598</td>\n",
       "      <td>14.9956273065</td>\n",
       "      <td>13.8462092599</td>\n",
       "      <td>2841.4564499371</td>\n",
       "      <td>-95.1508857309</td>\n",
       "    </tr>\n",
       "    <tr>\n",
       "      <th>274</th>\n",
       "      <td>(1, 2, 0)</td>\n",
       "      <td>(0, 0, 0, 12)</td>\n",
       "      <td>589.5803326715</td>\n",
       "      <td>19.9565897256</td>\n",
       "      <td>18.3775318789</td>\n",
       "      <td>3792.2543269796</td>\n",
       "      <td>-169.2929508481</td>\n",
       "    </tr>\n",
       "    <tr>\n",
       "      <th>118</th>\n",
       "      <td>(0, 2, 0)</td>\n",
       "      <td>(0, 0, 2, 12)</td>\n",
       "      <td>497.0848118183</td>\n",
       "      <td>20.1374620275</td>\n",
       "      <td>18.4432624194</td>\n",
       "      <td>3756.6406054638</td>\n",
       "      <td>-172.3937670550</td>\n",
       "    </tr>\n",
       "  </tbody>\n",
       "</table>\n",
       "<p>440 rows × 7 columns</p>\n",
       "</div>"
      ],
      "text/plain": [
       "           pdq            PDQ             AIC           RMSE            MAE  \\\n",
       "417  (2, 2, 0)  (2, 2, 1, 12)  177.3066908627   0.6076485988   0.5276047199   \n",
       "418  (2, 2, 0)  (2, 2, 2, 12)  179.3039223858   0.6092684029   0.5336382654   \n",
       "290  (1, 2, 0)  (2, 2, 1, 12)  208.8322027578   0.6399064466   0.5793694156   \n",
       "77   (0, 1, 0)  (2, 2, 1, 12)  125.0950323445   0.6452726443   0.5647825354   \n",
       "399  (2, 1, 2)  (2, 2, 1, 12)  109.9712729444   0.6467679768   0.5498394239   \n",
       "..         ...            ...             ...            ...            ...   \n",
       "401  (2, 2, 0)  (0, 0, 0, 12)  540.8600155277  14.0139661776  13.0040157713   \n",
       "276  (1, 2, 0)  (0, 0, 2, 12)  426.3129193883  14.3044678379  13.2078277293   \n",
       "117  (0, 2, 0)  (0, 0, 1, 12)  511.4116379598  14.9956273065  13.8462092599   \n",
       "274  (1, 2, 0)  (0, 0, 0, 12)  589.5803326715  19.9565897256  18.3775318789   \n",
       "118  (0, 2, 0)  (0, 0, 2, 12)  497.0848118183  20.1374620275  18.4432624194   \n",
       "\n",
       "                MAPE              R2  \n",
       "417   118.5317781740    0.8421193104  \n",
       "418   116.5299986742    0.8412764659  \n",
       "290   115.4304846377    0.8249117573  \n",
       "77    100.9533123596    0.8219628961  \n",
       "399    94.7952635180    0.8211367860  \n",
       "..               ...             ...  \n",
       "401  2721.5701697274  -82.9742517856  \n",
       "276  2723.3199226603  -86.4918146315  \n",
       "117  2841.4564499371  -95.1508857309  \n",
       "274  3792.2543269796 -169.2929508481  \n",
       "118  3756.6406054638 -172.3937670550  \n",
       "\n",
       "[440 rows x 7 columns]"
      ]
     },
     "metadata": {},
     "output_type": "display_data"
    }
   ],
   "source": [
    "scaled_grid_res=grid_search(scaled_data,scaled_train_data)\n",
    "display(scaled_grid_res)"
   ]
  },
  {
   "cell_type": "code",
   "execution_count": null,
   "metadata": {},
   "outputs": [],
   "source": []
  },
  {
   "cell_type": "code",
   "execution_count": 25,
   "metadata": {
    "scrolled": true
   },
   "outputs": [
    {
     "name": "stdout",
     "output_type": "stream",
     "text": [
      "                                 Statespace Model Results                                 \n",
      "==========================================================================================\n",
      "Dep. Variable:                              Sales   No. Observations:                  168\n",
      "Model:             SARIMAX(2, 0, 0)x(2, 2, 2, 12)   Log Likelihood               -2101.017\n",
      "Date:                            Wed, 28 Mar 2018   AIC                           4216.035\n",
      "Time:                                    16:25:04   BIC                           4237.903\n",
      "Sample:                                01-01-2003   HQIC                          4224.910\n",
      "                                     - 12-01-2016                                         \n",
      "Covariance Type:                              opg                                         \n",
      "==============================================================================\n",
      "                 coef    std err          z      P>|z|      [0.025      0.975]\n",
      "------------------------------------------------------------------------------\n",
      "ar.L1          0.5959      0.210      2.835      0.005       0.184       1.008\n",
      "ar.L2          0.2441      0.247      0.989      0.323      -0.240       0.728\n",
      "ar.S.L12      -0.5830      0.340     -1.713      0.087      -1.250       0.084\n",
      "ar.S.L24      -0.3988      0.182     -2.191      0.028      -0.756      -0.042\n",
      "ma.S.L12      -0.6622      0.385     -1.718      0.086      -1.418       0.093\n",
      "ma.S.L24       0.1341      0.336      0.399      0.690      -0.525       0.793\n",
      "sigma2      5.294e+11   2.59e-13   2.04e+24      0.000    5.29e+11    5.29e+11\n",
      "===================================================================================\n",
      "Ljung-Box (Q):                       34.94   Jarque-Bera (JB):                23.57\n",
      "Prob(Q):                              0.70   Prob(JB):                         0.00\n",
      "Heteroskedasticity (H):               1.50   Skew:                             0.09\n",
      "Prob(H) (two-sided):                  0.16   Kurtosis:                         4.97\n",
      "===================================================================================\n",
      "\n",
      "Warnings:\n",
      "[1] Covariance matrix calculated using the outer product of gradients (complex-step).\n",
      "[2] Covariance matrix is singular or near-singular, with condition number 4.2e+40. Standard errors may be unstable.\n",
      " ERROR MEASURES \n",
      "Root Mean Squared Error:  691074.6413878282\n",
      "Mean Absolute Error:  570389.685567422\n",
      "Mean Absolute Percent Error:  14.596062121336292\n",
      "R2 score:  0.83703226633155\n"
     ]
    },
    {
     "data": {
      "text/plain": [
       "<matplotlib.axes._subplots.AxesSubplot at 0x1866bb7d240>"
      ]
     },
     "execution_count": 25,
     "metadata": {},
     "output_type": "execute_result"
    },
    {
     "data": {
      "image/png": "[encoded data removed]",
      "text/plain": [
       "<Figure size 432x288 with 1 Axes>"
      ]
     },
     "metadata": {},
     "output_type": "display_data"
    }
   ],
   "source": [
    "train_data=data.loc[data.index<'2017-01-01']\n",
    "result,aic=build_model(data,train_data,(2,0,0),(2,2,2,12),True)\n",
    "acc_score(result,True)\n",
    "test_data=result.loc[result.index>='2017-01-01']\n",
    "test_data.plot()"
   ]
  },
  {
   "cell_type": "code",
   "execution_count": 26,
   "metadata": {
    "scrolled": true
   },
   "outputs": [
    {
     "name": "stdout",
     "output_type": "stream",
     "text": [
      " ERROR MEASURES \n",
      "Root Mean Squared Error:  640246.0671347094\n",
      "Mean Absolute Error:  485485.96631055744\n",
      "Mean Absolute Percent Error:  11.958972196396202\n",
      "R2 score:  0.8601232443165233\n"
     ]
    },
    {
     "name": "stderr",
     "output_type": "stream",
     "text": [
      "C:\\Users\\ndrs\\Anaconda3\\lib\\site-packages\\statsmodels\\base\\model.py:496: ConvergenceWarning: Maximum Likelihood optimization failed to converge. Check mle_retvals\n",
      "  \"Check mle_retvals\", ConvergenceWarning)\n"
     ]
    },
    {
     "data": {
      "text/plain": [
       "<matplotlib.axes._subplots.AxesSubplot at 0x1866b853278>"
      ]
     },
     "execution_count": 26,
     "metadata": {},
     "output_type": "execute_result"
    },
    {
     "data": {
      "image/png": "[encoded data removed]",
      "text/plain": [
       "<Figure size 432x288 with 1 Axes>"
      ]
     },
     "metadata": {},
     "output_type": "display_data"
    }
   ],
   "source": [
    "log_result,aic=build_model(log_data,log_train_data,(1,2,1),(1,1,1,12),False)\n",
    "\n",
    "log_test_data=log_result.loc[log_result.index>='2017-01-01']\n",
    "log_test_data=np.exp(log_test_data)\n",
    "acc_score(log_test_data,True)\n",
    "log_test_data.plot()"
   ]
  },
  {
   "cell_type": "code",
   "execution_count": 27,
   "metadata": {
    "scrolled": true
   },
   "outputs": [
    {
     "name": "stdout",
     "output_type": "stream",
     "text": [
      " ERROR MEASURES \n",
      "Root Mean Squared Error:  680203.1696125534\n",
      "Mean Absolute Error:  590601.8765607096\n",
      "Mean Absolute Percent Error:  15.993434247118593\n",
      "R2 score:  0.8421193104388569\n"
     ]
    },
    {
     "data": {
      "text/plain": [
       "<matplotlib.axes._subplots.AxesSubplot at 0x1866b7254a8>"
      ]
     },
     "execution_count": 27,
     "metadata": {},
     "output_type": "execute_result"
    },
    {
     "data": {
      "image/png": "[encoded data removed]",
      "text/plain": [
       "<Figure size 432x288 with 1 Axes>"
      ]
     },
     "metadata": {},
     "output_type": "display_data"
    }
   ],
   "source": [
    "scaled_result,aic=build_model(scaled_data,scaled_train_data,(2,2,0),(2,2,1,12),False)\n",
    "\n",
    "scaled_test_data=scaled_result.loc[scaled_result.index>='2017-01-01']\n",
    "scaled_test_data=scaler.inverse_transform(scaled_test_data)\n",
    "scaled_test_data = pd.DataFrame(scaled_test_data,columns=log_test_data.columns.values,index=log_test_data.index.values)\n",
    "acc_score(scaled_test_data,True)\n",
    "scaled_test_data.plot()"
   ]
  },
  {
   "cell_type": "code",
   "execution_count": 29,
   "metadata": {},
   "outputs": [
    {
     "data": {
      "image/png": "[encoded data removed]",
      "text/plain": [
       "<Figure size 432x288 with 1 Axes>"
      ]
     },
     "metadata": {},
     "output_type": "display_data"
    }
   ],
   "source": [
    "plt.plot(test_data['Sales'],label='Sales',c='red')\n",
    "plt.plot(test_data['Forecast'],label='Forecast')\n",
    "plt.plot(log_test_data['Forecast'],label='Log_Forecast')\n",
    "plt.plot(scaled_test_data['Forecast'],label='Scaled_Forecast')\n",
    "plt.legend()\n",
    "plt.show()"
   ]
  },
  {
   "cell_type": "code",
   "execution_count": 36,
   "metadata": {},
   "outputs": [
    {
     "name": "stdout",
     "output_type": "stream",
     "text": [
      "Final Forecast\n",
      "                                 Statespace Model Results                                 \n",
      "==========================================================================================\n",
      "Dep. Variable:                              Sales   No. Observations:                  180\n",
      "Model:             SARIMAX(1, 2, 1)x(1, 1, 1, 12)   Log Likelihood                 142.472\n",
      "Date:                            Wed, 28 Mar 2018   AIC                           -274.943\n",
      "Time:                                    16:34:27   BIC                           -258.978\n",
      "Sample:                                01-01-2003   HQIC                          -268.470\n",
      "                                     - 12-01-2017                                         \n",
      "Covariance Type:                              opg                                         \n",
      "==============================================================================\n",
      "                 coef    std err          z      P>|z|      [0.025      0.975]\n",
      "------------------------------------------------------------------------------\n",
      "ar.L1         -0.3403      0.086     -3.968      0.000      -0.508      -0.172\n",
      "ma.L1         -0.9939      0.194     -5.114      0.000      -1.375      -0.613\n",
      "ar.S.L12      -0.0933      0.120     -0.780      0.435      -0.328       0.141\n",
      "ma.S.L12      -0.9963      3.435     -0.290      0.772      -7.728       5.736\n",
      "sigma2         0.0083      0.028      0.292      0.770      -0.048       0.064\n",
      "===================================================================================\n",
      "Ljung-Box (Q):                       39.60   Jarque-Bera (JB):                13.40\n",
      "Prob(Q):                              0.49   Prob(JB):                         0.00\n",
      "Heteroskedasticity (H):               1.55   Skew:                             0.44\n",
      "Prob(H) (two-sided):                  0.11   Kurtosis:                         4.08\n",
      "===================================================================================\n",
      "\n",
      "Warnings:\n",
      "[1] Covariance matrix calculated using the outer product of gradients (complex-step).\n"
     ]
    }
   ],
   "source": [
    "print('Final Forecast')\n",
    "model=SARIMAX(log_data,order=(1,2,1),seasonal_order=(1,1,1,12))\n",
    "model_fit=model.fit()\n",
    "print(model_fit.summary())"
   ]
  },
  {
   "cell_type": "code",
   "execution_count": 37,
   "metadata": {},
   "outputs": [
    {
     "data": {
      "image/png": "[encoded data removed]",
      "text/plain": [
       "<Figure size 864x576 with 1 Axes>"
      ]
     },
     "metadata": {},
     "output_type": "display_data"
    },
    {
     "name": "stdout",
     "output_type": "stream",
     "text": [
      "2018-01-01    4.8855173852e+06\n",
      "2018-02-01    4.1370655217e+06\n",
      "2018-03-01    4.9799041948e+06\n",
      "2018-04-01    4.5127937271e+06\n",
      "2018-05-01    5.0312094389e+06\n",
      "                    ...       \n",
      "2018-08-01    4.0471462525e+06\n",
      "2018-09-01    4.0705852783e+06\n",
      "2018-10-01    4.4526159805e+06\n",
      "2018-11-01    4.4862464256e+06\n",
      "2018-12-01    1.0299365609e+07\n",
      "Freq: MS, Name: Forecast, Length: 12, dtype: float64\n"
     ]
    }
   ],
   "source": [
    "forecast_results=model_fit.forecast(steps=12)\n",
    "forecast_results.rename('Forecast',inplace=True)\n",
    "forecast_results=np.exp(forecast_results)\n",
    "forecast_data=pd.concat((data,forecast_results),axis=1)\n",
    "forecast_data.plot(figsize=(12,8))\n",
    "plt.show()\n",
    "print(forecast_results)"
   ]
  },
  {
   "cell_type": "code",
   "execution_count": 38,
   "metadata": {},
   "outputs": [
    {
     "data": {
      "image/png": "[encoded data removed]",
      "text/plain": [
       "<Figure size 864x576 with 1 Axes>"
      ]
     },
     "metadata": {},
     "output_type": "display_data"
    }
   ],
   "source": [
    "test_data=forecast_data.loc[forecast_data.index>='2016-01-01']\n",
    "test_data.plot(figsize=(12,8))\n",
    "plt.show()"
   ]
  },
  {
   "cell_type": "code",
   "execution_count": 40,
   "metadata": {},
   "outputs": [],
   "source": [
    "writer=pd.ExcelWriter('2018_log_forecast.xlsx')\n",
    "forecast_data.to_excel(writer,'2018_log_forecast')\n",
    "writer.save()"
   ]
  },
  {
   "cell_type": "code",
   "execution_count": null,
   "metadata": {},
   "outputs": [],
   "source": []
  }
 ],
 "metadata": {
  "kernelspec": {
   "display_name": "Python 3",
   "language": "python",
   "name": "python3"
  },
  "language_info": {
   "codemirror_mode": {
    "name": "ipython",
    "version": 3
   },
   "file_extension": ".py",
   "mimetype": "text/x-python",
   "name": "python",
   "nbconvert_exporter": "python",
   "pygments_lexer": "ipython3",
   "version": "3.6.1"
  }
 },
 "nbformat": 4,
 "nbformat_minor": 2
}
